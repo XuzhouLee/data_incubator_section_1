{
  "nbformat": 4,
  "nbformat_minor": 0,
  "metadata": {
    "hide_input": false,
    "kernelspec": {
      "display_name": "Python 3",
      "language": "python",
      "name": "python3"
    },
    "language_info": {
      "codemirror_mode": {
        "name": "ipython",
        "version": 3
      },
      "file_extension": ".py",
      "mimetype": "text/x-python",
      "name": "python",
      "nbconvert_exporter": "python",
      "pygments_lexer": "ipython3",
      "version": "3.5.5"
    },
    "toc": {
      "base_numbering": 1,
      "nav_menu": {},
      "number_sections": true,
      "sideBar": true,
      "skip_h1_title": false,
      "title_cell": "Table of Contents",
      "title_sidebar": "Contents",
      "toc_cell": false,
      "toc_position": {
        "height": "840px",
        "left": "0px",
        "right": "1111px",
        "top": "113px",
        "width": "253px"
      },
      "toc_section_display": "block",
      "toc_window_display": true
    },
    "varInspector": {
      "cols": {
        "lenName": 16,
        "lenType": 16,
        "lenVar": 40
      },
      "kernels_config": {
        "python": {
          "delete_cmd_postfix": "",
          "delete_cmd_prefix": "del ",
          "library": "var_list.py",
          "varRefreshCmd": "print(var_dic_list())"
        },
        "r": {
          "delete_cmd_postfix": ") ",
          "delete_cmd_prefix": "rm(",
          "library": "var_list.r",
          "varRefreshCmd": "cat(var_dic_list()) "
        }
      },
      "types_to_exclude": [
        "module",
        "function",
        "builtin_function_or_method",
        "instance",
        "_Feature"
      ],
      "window_display": false
    },
    "colab": {
      "name": "MEGC_Python_Workshop_sendout.ipynb",
      "provenance": [],
      "collapsed_sections": [
        "hoLFTI9QU965",
        "oztz3WC5U96-",
        "3oOqoXlrU97R",
        "Ygi4N7gVU97S",
        "iVNQY2lDU97i"
      ]
    }
  },
  "cells": [
    {
      "cell_type": "markdown",
      "metadata": {
        "id": "xQ9qZ2LMU96b",
        "colab_type": "text"
      },
      "source": [
        "### **MEGC Workshop for Python**"
      ]
    },
    {
      "cell_type": "markdown",
      "metadata": {
        "id": "_LtOu4gCU96d",
        "colab_type": "text"
      },
      "source": [
        "<hr>"
      ]
    },
    {
      "cell_type": "markdown",
      "metadata": {
        "id": "dvMU8zQLU96e",
        "colab_type": "text"
      },
      "source": [
        "Thanks to Zhiya Zuo (https://github.com/zhiyzuo) for providing the original teaching material. "
      ]
    },
    {
      "cell_type": "markdown",
      "metadata": {
        "id": "er2RcTz9U96e",
        "colab_type": "text"
      },
      "source": [
        "---"
      ]
    },
    {
      "cell_type": "markdown",
      "metadata": {
        "id": "s-iZJoYSWylW",
        "colab_type": "text"
      },
      "source": [
        "### Variables"
      ]
    },
    {
      "cell_type": "markdown",
      "metadata": {
        "id": "nKEpN4B6WylX",
        "colab_type": "text"
      },
      "source": [
        "When assigning values, we put the variable to be assigned to on the left hand side (LHS), while the value to plug in on the RHS. LHS and RHS are connected by an equal sign (`=`), meaning assignment."
      ]
    },
    {
      "cell_type": "code",
      "metadata": {
        "ExecuteTime": {
          "end_time": "2017-10-04T18:38:12.552928Z",
          "start_time": "2017-10-04T18:38:12.543725Z"
        },
        "id": "v4aMQVEEWylY",
        "colab_type": "code",
        "colab": {}
      },
      "source": [
        "x = 3 # integer\n",
        "y = 3. # floating point number\n",
        "z = \"Hello!\" # strings\n",
        "Z = \"Wonderful!\" # another string, stored in a variable big z.\n",
        "print(x)\n",
        "print(y)\n",
        "print(z)\n",
        "print(Z)"
      ],
      "execution_count": 0,
      "outputs": []
    },
    {
      "cell_type": "markdown",
      "metadata": {
        "id": "22__iO1nWylc",
        "colab_type": "text"
      },
      "source": [
        "You can do operations on numeric values as well as strings."
      ]
    },
    {
      "cell_type": "code",
      "metadata": {
        "ExecuteTime": {
          "end_time": "2018-10-09T01:38:17.443096Z",
          "start_time": "2018-10-09T01:38:17.439036Z"
        },
        "id": "IeQVpZNLWylc",
        "colab_type": "code",
        "colab": {}
      },
      "source": [
        "sum_ = x + y # int + float = float\n",
        "print(sum_)"
      ],
      "execution_count": 0,
      "outputs": []
    },
    {
      "cell_type": "code",
      "metadata": {
        "ExecuteTime": {
          "end_time": "2017-10-04T18:38:13.972732Z",
          "start_time": "2017-10-04T18:38:13.967236Z"
        },
        "id": "1uAkrtHCWylf",
        "colab_type": "code",
        "colab": {}
      },
      "source": [
        "v = \"World!\"\n",
        "sum_string = z + \" \" + v # concatenate strings\n",
        "print(sum_string)"
      ],
      "execution_count": 0,
      "outputs": []
    },
    {
      "cell_type": "markdown",
      "metadata": {
        "id": "AplkKtKGWylh",
        "colab_type": "text"
      },
      "source": [
        "Print with formating with `%`"
      ]
    },
    {
      "cell_type": "code",
      "metadata": {
        "ExecuteTime": {
          "end_time": "2017-10-04T18:38:15.178277Z",
          "start_time": "2017-10-04T18:38:15.173368Z"
        },
        "id": "0NzrjmsDWyli",
        "colab_type": "code",
        "colab": {}
      },
      "source": [
        "print(\"The sum of x and y is %.2f\"%sum_) # %f for floating point number"
      ],
      "execution_count": 0,
      "outputs": []
    },
    {
      "cell_type": "code",
      "metadata": {
        "ExecuteTime": {
          "end_time": "2017-10-04T18:38:15.472965Z",
          "start_time": "2017-10-04T18:38:15.467306Z"
        },
        "id": "jo_PDxvVWylk",
        "colab_type": "code",
        "colab": {}
      },
      "source": [
        "print(\"The string `sum_string` is '%s'\"%sum_string) # %s for string"
      ],
      "execution_count": 0,
      "outputs": []
    },
    {
      "cell_type": "markdown",
      "metadata": {
        "id": "YBckUWQyWylm",
        "colab_type": "text"
      },
      "source": [
        "#### Naming convention"
      ]
    },
    {
      "cell_type": "markdown",
      "metadata": {
        "id": "YlBZZOgAWyln",
        "colab_type": "text"
      },
      "source": [
        "There are two commonly used style in programming:\n",
        "\n",
        "1. __camelCase__\n",
        "2. __snake_case__ or __lower_case_with_underscore__"
      ]
    },
    {
      "cell_type": "markdown",
      "metadata": {
        "id": "qIpSQH_uWyln",
        "colab_type": "text"
      },
      "source": [
        "All variable (function and class) names must start with a letter or underscore (\\_). You can include numbers."
      ]
    },
    {
      "cell_type": "code",
      "metadata": {
        "ExecuteTime": {
          "end_time": "2018-10-09T00:16:28.497486Z",
          "start_time": "2018-10-09T00:16:28.491966Z"
        },
        "id": "TGV05R4eWylo",
        "colab_type": "code",
        "colab": {}
      },
      "source": [
        "myStringHere = 'my string'\n",
        "myStringHere"
      ],
      "execution_count": 0,
      "outputs": []
    },
    {
      "cell_type": "code",
      "metadata": {
        "ExecuteTime": {
          "end_time": "2018-10-09T00:16:28.879472Z",
          "start_time": "2018-10-09T00:16:28.875812Z"
        },
        "id": "ZWcX9JitWylq",
        "colab_type": "code",
        "colab": {}
      },
      "source": [
        "x = 3 # valid\n",
        "x_3 = \"xyz\" # valid"
      ],
      "execution_count": 0,
      "outputs": []
    },
    {
      "cell_type": "code",
      "metadata": {
        "ExecuteTime": {
          "end_time": "2018-10-09T00:16:29.096887Z",
          "start_time": "2018-10-09T00:16:29.091476Z"
        },
        "id": "OpB_stZmWyls",
        "colab_type": "code",
        "colab": {}
      },
      "source": [
        "3_x = \"456\" # invalid. Numbers cannot be in the first position."
      ],
      "execution_count": 0,
      "outputs": []
    },
    {
      "cell_type": "markdown",
      "metadata": {
        "id": "jHRKkMm5Wylu",
        "colab_type": "text"
      },
      "source": [
        "You can choose either camel case or snake case. Always make sure you use one convention consistenly across one project."
      ]
    },
    {
      "cell_type": "markdown",
      "metadata": {
        "id": "r-oTIHQvWylu",
        "colab_type": "text"
      },
      "source": [
        "See more here:\n",
        "\n",
        "[1] https://www.python.org/dev/peps/pep-0008/#descriptive-naming-styles\n",
        "\n",
        "[2] https://en.wikipedia.org/wiki/Naming_convention_(programming)"
      ]
    },
    {
      "cell_type": "markdown",
      "metadata": {
        "id": "rtEJKIH4Wylv",
        "colab_type": "text"
      },
      "source": [
        "#### Some notes on Strings"
      ]
    },
    {
      "cell_type": "markdown",
      "metadata": {
        "id": "CfGw8F23Wylv",
        "colab_type": "text"
      },
      "source": [
        "To initialize a string variable, you can use either double or single quotes."
      ]
    },
    {
      "cell_type": "code",
      "metadata": {
        "ExecuteTime": {
          "end_time": "2018-10-09T00:16:32.520585Z",
          "start_time": "2018-10-09T00:16:32.516838Z"
        },
        "id": "f7ci-4iZWylw",
        "colab_type": "code",
        "colab": {}
      },
      "source": [
        "store_name = \"HyVee\""
      ],
      "execution_count": 0,
      "outputs": []
    },
    {
      "cell_type": "markdown",
      "metadata": {
        "id": "-_Cx_d4XWyly",
        "colab_type": "text"
      },
      "source": [
        "You can think of strings as a sequence of characters (or a __list__ of characters, see the next section). In this case, indices and bracket notations can be used to access specific ranges of characters."
      ]
    },
    {
      "cell_type": "code",
      "metadata": {
        "ExecuteTime": {
          "end_time": "2018-10-09T00:16:32.814921Z",
          "start_time": "2018-10-09T00:16:32.811324Z"
        },
        "id": "aqVGFdW0Wyl1",
        "colab_type": "code",
        "colab": {}
      },
      "source": [
        "name_13 = store_name[1:4] # [start, end), end is exclusive; Python starts with 0 NOT 1\n",
        "print(name_13)"
      ],
      "execution_count": 0,
      "outputs": []
    },
    {
      "cell_type": "code",
      "metadata": {
        "ExecuteTime": {
          "end_time": "2018-10-09T00:16:33.080003Z",
          "start_time": "2018-10-09T00:16:33.075926Z"
        },
        "id": "bx4wdiGRWyl3",
        "colab_type": "code",
        "colab": {}
      },
      "source": [
        "last_letter = store_name[-1] # -1 means the last element\n",
        "print(last_letter)"
      ],
      "execution_count": 0,
      "outputs": []
    },
    {
      "cell_type": "markdown",
      "metadata": {
        "id": "AVQ0b8h0Wyl6",
        "colab_type": "text"
      },
      "source": [
        "### Simple Data Structures"
      ]
    },
    {
      "cell_type": "markdown",
      "metadata": {
        "id": "jDqkIv8rWyl7",
        "colab_type": "text"
      },
      "source": [
        "#### Numbers"
      ]
    },
    {
      "cell_type": "markdown",
      "metadata": {
        "id": "D7VD12cFWyl8",
        "colab_type": "text"
      },
      "source": [
        "For numbers w/o fractional parts, we say they are ___integer___. In Python, they are called `int`"
      ]
    },
    {
      "cell_type": "code",
      "metadata": {
        "ExecuteTime": {
          "end_time": "2018-10-08T23:51:10.632494Z",
          "start_time": "2018-10-08T23:51:10.598421Z"
        },
        "id": "i7_QT64-Wyl9",
        "colab_type": "code",
        "colab": {}
      },
      "source": [
        "x = 3\n",
        "type(x)"
      ],
      "execution_count": 0,
      "outputs": []
    },
    {
      "cell_type": "markdown",
      "metadata": {
        "id": "YeRwy-FDWyl_",
        "colab_type": "text"
      },
      "source": [
        "For numbers w/ fractional parts, they are floating point numbers. They are named `float` in Python."
      ]
    },
    {
      "cell_type": "code",
      "metadata": {
        "ExecuteTime": {
          "end_time": "2018-10-08T23:51:54.013974Z",
          "start_time": "2018-10-08T23:51:54.008407Z"
        },
        "id": "Bb-B86a7Wyl_",
        "colab_type": "code",
        "colab": {}
      },
      "source": [
        "y = 3.0\n",
        "type(y)"
      ],
      "execution_count": 0,
      "outputs": []
    },
    {
      "cell_type": "markdown",
      "metadata": {
        "ExecuteTime": {
          "end_time": "2018-10-08T23:55:03.134594Z",
          "start_time": "2018-10-08T23:55:03.118103Z"
        },
        "id": "WfM4is1OWymB",
        "colab_type": "text"
      },
      "source": [
        "We can apply arithmetic to these numbers. However, one thing we need to be careful about is ___type conversion___. See the example below."
      ]
    },
    {
      "cell_type": "code",
      "metadata": {
        "ExecuteTime": {
          "end_time": "2018-10-08T23:55:31.855870Z",
          "start_time": "2018-10-08T23:55:31.847879Z"
        },
        "id": "QxifIn_VWymC",
        "colab_type": "code",
        "colab": {}
      },
      "source": [
        "z = 2 * x\n",
        "type(z)"
      ],
      "execution_count": 0,
      "outputs": []
    },
    {
      "cell_type": "code",
      "metadata": {
        "ExecuteTime": {
          "end_time": "2018-10-08T23:55:36.207707Z",
          "start_time": "2018-10-08T23:55:36.202449Z"
        },
        "id": "m7qt4WRlWymD",
        "colab_type": "code",
        "colab": {}
      },
      "source": [
        "z = y + x\n",
        "type(z)"
      ],
      "execution_count": 0,
      "outputs": []
    },
    {
      "cell_type": "markdown",
      "metadata": {
        "id": "d90ZncoFWymF",
        "colab_type": "text"
      },
      "source": [
        "#### Text/Characters/Strings"
      ]
    },
    {
      "cell_type": "markdown",
      "metadata": {
        "id": "TCS9gxvRWymG",
        "colab_type": "text"
      },
      "source": [
        "In Python, we use `str` type for storing letters, words, and any other characters, as mentioned previously in Section 2.2"
      ]
    },
    {
      "cell_type": "code",
      "metadata": {
        "ExecuteTime": {
          "end_time": "2018-10-08T23:57:26.831211Z",
          "start_time": "2018-10-08T23:57:26.826020Z"
        },
        "id": "oQZFrujXWymG",
        "colab_type": "code",
        "colab": {}
      },
      "source": [
        "my_word = \"see you\"\n",
        "type(my_word)"
      ],
      "execution_count": 0,
      "outputs": []
    },
    {
      "cell_type": "markdown",
      "metadata": {
        "id": "-sPoYMWPWymI",
        "colab_type": "text"
      },
      "source": [
        "Unlike numbers, `str` is an iterable object, meaning that we can iterate through each individual character:"
      ]
    },
    {
      "cell_type": "code",
      "metadata": {
        "ExecuteTime": {
          "end_time": "2018-10-08T23:58:44.058368Z",
          "start_time": "2018-10-08T23:58:44.052694Z"
        },
        "id": "DV87b7vPWymJ",
        "colab_type": "code",
        "colab": {}
      },
      "source": [
        "my_word[0], my_word[2:6]"
      ],
      "execution_count": 0,
      "outputs": []
    },
    {
      "cell_type": "markdown",
      "metadata": {
        "id": "QAMA7frPWymK",
        "colab_type": "text"
      },
      "source": [
        "We can also use `+` to _concatenate_ different strings "
      ]
    },
    {
      "cell_type": "code",
      "metadata": {
        "ExecuteTime": {
          "end_time": "2018-10-08T23:59:16.399980Z",
          "start_time": "2018-10-08T23:59:16.395030Z"
        },
        "id": "2o9WtddqWymL",
        "colab_type": "code",
        "colab": {}
      },
      "source": [
        "my_word + ' tomorrow'"
      ],
      "execution_count": 0,
      "outputs": []
    },
    {
      "cell_type": "markdown",
      "metadata": {
        "id": "0UTVYcZIWymO",
        "colab_type": "text"
      },
      "source": [
        "#### Boolean"
      ]
    },
    {
      "cell_type": "markdown",
      "metadata": {
        "id": "m85DrfjDWymO",
        "colab_type": "text"
      },
      "source": [
        "Boolean type comes in handy when we need to check conditions. For example:"
      ]
    },
    {
      "cell_type": "code",
      "metadata": {
        "ExecuteTime": {
          "end_time": "2018-10-09T00:00:33.751846Z",
          "start_time": "2018-10-09T00:00:33.746658Z"
        },
        "id": "IXnQvmTMWymP",
        "colab_type": "code",
        "colab": {}
      },
      "source": [
        "my_error = 1.6\n",
        "compare_result = my_error < 0.1\n",
        "compare_result, type(compare_result)"
      ],
      "execution_count": 0,
      "outputs": []
    },
    {
      "cell_type": "markdown",
      "metadata": {
        "id": "cGy4Qc1LWymR",
        "colab_type": "text"
      },
      "source": [
        "There are two and only two valid Boolean values: `True` and `False`. We can also think of them as `1` and `0`, respectively."
      ]
    },
    {
      "cell_type": "code",
      "metadata": {
        "ExecuteTime": {
          "end_time": "2018-10-09T00:02:30.834630Z",
          "start_time": "2018-10-09T00:02:30.830339Z"
        },
        "id": "x1ZLtz4CWymR",
        "colab_type": "code",
        "colab": {}
      },
      "source": [
        "my_error > 0"
      ],
      "execution_count": 0,
      "outputs": []
    },
    {
      "cell_type": "markdown",
      "metadata": {
        "id": "zRXeR1G1WymT",
        "colab_type": "text"
      },
      "source": [
        "When we use Boolean values for arithmetic operations, they will become `1/0` automatically"
      ]
    },
    {
      "cell_type": "code",
      "metadata": {
        "ExecuteTime": {
          "end_time": "2018-10-09T00:02:52.791120Z",
          "start_time": "2018-10-09T00:02:52.783315Z"
        },
        "id": "tnc6M_H7WymT",
        "colab_type": "code",
        "colab": {}
      },
      "source": [
        "(my_error>0) + 2"
      ],
      "execution_count": 0,
      "outputs": []
    },
    {
      "cell_type": "markdown",
      "metadata": {
        "id": "2EgoYHNwWymV",
        "colab_type": "text"
      },
      "source": [
        "#### Type Conversion"
      ]
    },
    {
      "cell_type": "markdown",
      "metadata": {
        "id": "_yP_x6JGWymV",
        "colab_type": "text"
      },
      "source": [
        "Since variables in Python are dynamically typed, we need to be careful about type conversion."
      ]
    },
    {
      "cell_type": "markdown",
      "metadata": {
        "id": "46kLIf3PWymW",
        "colab_type": "text"
      },
      "source": [
        "When two variables share the same data type, there is not much to be worried about:"
      ]
    },
    {
      "cell_type": "code",
      "metadata": {
        "ExecuteTime": {
          "end_time": "2018-10-09T00:04:59.077234Z",
          "start_time": "2018-10-09T00:04:59.072252Z"
        },
        "id": "G4cKFFR8WymX",
        "colab_type": "code",
        "colab": {}
      },
      "source": [
        "s1 = \"no problem. \"\n",
        "s2 = \"talk to you later\"\n",
        "s1 + s2"
      ],
      "execution_count": 0,
      "outputs": []
    },
    {
      "cell_type": "markdown",
      "metadata": {
        "id": "fCqKrut_WymY",
        "colab_type": "text"
      },
      "source": [
        "But be careful when we are mixing variables up:"
      ]
    },
    {
      "cell_type": "code",
      "metadata": {
        "ExecuteTime": {
          "end_time": "2018-10-09T00:06:03.221806Z",
          "start_time": "2018-10-09T00:06:03.217855Z"
        },
        "id": "iNSDTcatWymZ",
        "colab_type": "code",
        "colab": {}
      },
      "source": [
        "a = 3 # recall that this is an ____?\n",
        "b = 2.7 # how about this?\n",
        "c = a + b # what is the type of `c`?"
      ],
      "execution_count": 0,
      "outputs": []
    },
    {
      "cell_type": "markdown",
      "metadata": {
        "id": "cdNASRw7Wymb",
        "colab_type": "text"
      },
      "source": [
        "To make things work between string and numbers, we can explicitly convert numbers into `str`:"
      ]
    },
    {
      "cell_type": "code",
      "metadata": {
        "ExecuteTime": {
          "end_time": "2018-10-09T00:07:59.974061Z",
          "start_time": "2018-10-09T00:07:59.964373Z"
        },
        "id": "4QP67OHoWymb",
        "colab_type": "code",
        "colab": {}
      },
      "source": [
        "s1 + 3"
      ],
      "execution_count": 0,
      "outputs": []
    },
    {
      "cell_type": "code",
      "metadata": {
        "ExecuteTime": {
          "end_time": "2018-10-09T00:08:04.034457Z",
          "start_time": "2018-10-09T00:08:04.027842Z"
        },
        "id": "5Fgw8nJLWymd",
        "colab_type": "code",
        "colab": {}
      },
      "source": [
        "s1 + str(3)"
      ],
      "execution_count": 0,
      "outputs": []
    },
    {
      "cell_type": "markdown",
      "metadata": {
        "id": "eR2-xl9qWymf",
        "colab_type": "text"
      },
      "source": [
        "---"
      ]
    },
    {
      "cell_type": "markdown",
      "metadata": {
        "id": "WRYhbjl8Wymf",
        "colab_type": "text"
      },
      "source": [
        "### Data Structures To Store Those in Section 3"
      ]
    },
    {
      "cell_type": "markdown",
      "metadata": {
        "id": "MpILW5WlWymg",
        "colab_type": "text"
      },
      "source": [
        "In this section, we discuss some ___nonprimitive___ data structures in Python.\n",
        "\n",
        "We can think of ___nonprimitive___ types as those who can store ___primitive___ data"
      ]
    },
    {
      "cell_type": "markdown",
      "metadata": {
        "id": "PTHrkZ2mWymh",
        "colab_type": "text"
      },
      "source": [
        "#### List"
      ]
    },
    {
      "cell_type": "markdown",
      "metadata": {
        "id": "M2RNZu7aWymh",
        "colab_type": "text"
      },
      "source": [
        "Initialize a list with brackets. You can store anything in a list, even if they are different types\n",
        "- note that we use [___string formatting___](https://pyformat.info/) to display strings\n",
        "- `%i` is a placeholder for `int`\n",
        "- `%s` for `str`"
      ]
    },
    {
      "cell_type": "code",
      "metadata": {
        "ExecuteTime": {
          "end_time": "2018-10-09T00:10:24.538230Z",
          "start_time": "2018-10-09T00:10:24.528793Z"
        },
        "id": "o9ztH-EoWymi",
        "colab_type": "code",
        "colab": {}
      },
      "source": [
        "a_list = [1, 2, 3] # commas to seperate elements\n",
        "print(\"Length of a_list is: %i\"%(len(a_list)))\n",
        "print(\"The 3rd element of a_list is: %s\" %(a_list[2])) # Remember Python starts with 0\n",
        "print(\"The last element of a_list is: %s\" %(a_list[-1])) # -1 means the end\n",
        "print(\"The sum of a_list is %.2f\"%(sum(a_list)))"
      ],
      "execution_count": 0,
      "outputs": []
    },
    {
      "cell_type": "markdown",
      "metadata": {
        "ExecuteTime": {
          "end_time": "2018-10-09T00:10:32.820098Z",
          "start_time": "2018-10-09T00:10:32.815341Z"
        },
        "id": "GaH4ajoCWymk",
        "colab_type": "text"
      },
      "source": [
        "We can put different types in a list"
      ]
    },
    {
      "cell_type": "code",
      "metadata": {
        "ExecuteTime": {
          "end_time": "2018-10-09T00:10:35.486742Z",
          "start_time": "2018-10-09T00:10:35.479281Z"
        },
        "id": "YpAxm0zCWyml",
        "colab_type": "code",
        "colab": {}
      },
      "source": [
        "b_list = [20, True, \"good\", \"good\"] \n",
        "b_list"
      ],
      "execution_count": 0,
      "outputs": []
    },
    {
      "cell_type": "markdown",
      "metadata": {
        "id": "6GoQAOEUWymn",
        "colab_type": "text"
      },
      "source": [
        "Update a list: __pop__, __remove__, __append__, __extend__"
      ]
    },
    {
      "cell_type": "code",
      "metadata": {
        "ExecuteTime": {
          "end_time": "2018-10-09T00:10:41.107486Z",
          "start_time": "2018-10-09T00:10:41.102493Z"
        },
        "id": "2ZvWtWdfWymo",
        "colab_type": "code",
        "colab": {}
      },
      "source": [
        "print(a_list)\n",
        "print(\"Pop %i out of a_list\"%a_list.pop(1)) # pop the value of an index\n",
        "print(a_list)"
      ],
      "execution_count": 0,
      "outputs": []
    },
    {
      "cell_type": "code",
      "metadata": {
        "ExecuteTime": {
          "end_time": "2018-10-09T00:10:43.906572Z",
          "start_time": "2018-10-09T00:10:43.899877Z"
        },
        "id": "GYxLa1NYWymq",
        "colab_type": "code",
        "colab": {}
      },
      "source": [
        "print(\"Remove the string good from b_list:\")\n",
        "b_list.remove(\"good\") # remove a specific value (the first one in the list)\n",
        "print(b_list)"
      ],
      "execution_count": 0,
      "outputs": []
    },
    {
      "cell_type": "code",
      "metadata": {
        "ExecuteTime": {
          "end_time": "2018-10-09T00:10:45.307563Z",
          "start_time": "2018-10-09T00:10:45.302951Z"
        },
        "id": "CPYwC3diWyms",
        "colab_type": "code",
        "colab": {}
      },
      "source": [
        "a_list.append(10)\n",
        "print(\"After appending a new value, a_list is now: %s\"%(str(a_list)))"
      ],
      "execution_count": 0,
      "outputs": []
    },
    {
      "cell_type": "markdown",
      "metadata": {
        "ExecuteTime": {
          "end_time": "2018-10-09T00:10:45.952388Z",
          "start_time": "2018-10-09T00:10:45.943473Z"
        },
        "id": "mwS7wylDWymt",
        "colab_type": "text"
      },
      "source": [
        "merge `a_list` and `b_list`: "
      ]
    },
    {
      "cell_type": "code",
      "metadata": {
        "ExecuteTime": {
          "end_time": "2018-10-09T00:12:02.249064Z",
          "start_time": "2018-10-09T00:12:02.241901Z"
        },
        "id": "sedbTvwWWymu",
        "colab_type": "code",
        "colab": {}
      },
      "source": [
        "a_list.extend(b_list)\n",
        "print(\"Merging a_list and b_list: %s\"%(str(a_list)))"
      ],
      "execution_count": 0,
      "outputs": []
    },
    {
      "cell_type": "markdown",
      "metadata": {
        "ExecuteTime": {
          "end_time": "2018-10-09T00:10:45.952388Z",
          "start_time": "2018-10-09T00:10:45.943473Z"
        },
        "id": "xnGl9MsHWymv",
        "colab_type": "text"
      },
      "source": [
        "We can also use `+` to concatenate two lists"
      ]
    },
    {
      "cell_type": "code",
      "metadata": {
        "ExecuteTime": {
          "end_time": "2018-10-09T00:12:03.301969Z",
          "start_time": "2018-10-09T00:12:03.295626Z"
        },
        "id": "hkZMH_05Wymv",
        "colab_type": "code",
        "colab": {}
      },
      "source": [
        "a_list + b_list "
      ],
      "execution_count": 0,
      "outputs": []
    },
    {
      "cell_type": "markdown",
      "metadata": {
        "id": "xGaJtDIpWymx",
        "colab_type": "text"
      },
      "source": [
        "#### Tuple (A special case of list whose elements cannot be changed)"
      ]
    },
    {
      "cell_type": "markdown",
      "metadata": {
        "ExecuteTime": {
          "end_time": "2017-10-03T15:58:48.469747Z",
          "start_time": "2017-10-03T15:58:48.461327Z"
        },
        "id": "VJPtrq0TWymy",
        "colab_type": "text"
      },
      "source": [
        "Initialize a tuple with paranthesis. The major difference between list and tuple is that you can alter list but not tuple."
      ]
    },
    {
      "cell_type": "code",
      "metadata": {
        "ExecuteTime": {
          "end_time": "2018-10-09T00:12:16.790034Z",
          "start_time": "2018-10-09T00:12:16.784149Z"
        },
        "id": "e7CPi558Wymz",
        "colab_type": "code",
        "colab": {}
      },
      "source": [
        "a_tuple = (1, 2, 3, 10)\n",
        "print(a_tuple)\n",
        "print(\"First element of a_tuple: %i\"%a_tuple[0])"
      ],
      "execution_count": 0,
      "outputs": []
    },
    {
      "cell_type": "markdown",
      "metadata": {
        "ExecuteTime": {
          "end_time": "2018-10-09T00:12:17.683012Z",
          "start_time": "2018-10-09T00:12:17.672651Z"
        },
        "id": "lJ63bLbcWym0",
        "colab_type": "text"
      },
      "source": [
        "You cannot change the values of a_tuple"
      ]
    },
    {
      "cell_type": "code",
      "metadata": {
        "ExecuteTime": {
          "end_time": "2018-10-09T00:12:24.288097Z",
          "start_time": "2018-10-09T00:12:24.278444Z"
        },
        "id": "tcA-5q3PWym1",
        "colab_type": "code",
        "colab": {}
      },
      "source": [
        "a_tuple[0] = 5"
      ],
      "execution_count": 0,
      "outputs": []
    },
    {
      "cell_type": "markdown",
      "metadata": {
        "id": "AXfH7OkcWym5",
        "colab_type": "text"
      },
      "source": [
        "In order to create a single value tuple, you need to add a ','"
      ]
    },
    {
      "cell_type": "code",
      "metadata": {
        "id": "U09x7z3xWym6",
        "colab_type": "code",
        "colab": {}
      },
      "source": [
        "a_tuple = (1) # this would create a int type\n",
        "print(type(a_tuple))\n",
        "b_tuple = (1,) # this would create a tuple type, take note of the comma.\n",
        "print(type(b_tuple))"
      ],
      "execution_count": 0,
      "outputs": []
    },
    {
      "cell_type": "markdown",
      "metadata": {
        "id": "c9-r6PLLWym7",
        "colab_type": "text"
      },
      "source": [
        "#### Dictionary: key-value pairs"
      ]
    },
    {
      "cell_type": "markdown",
      "metadata": {
        "id": "-TbBFiRnWym7",
        "colab_type": "text"
      },
      "source": [
        "Initialize a dict by curly brackets `{}`"
      ]
    },
    {
      "cell_type": "code",
      "metadata": {
        "ExecuteTime": {
          "end_time": "2018-10-09T00:12:58.821876Z",
          "start_time": "2018-10-09T00:12:58.817697Z"
        },
        "id": "q8isMyCyWym8",
        "colab_type": "code",
        "colab": {}
      },
      "source": [
        "d = {} # empty dictionary\n",
        "d[1] = \"1 value\" # add a key-value by using bracket (key). You can put anything in key/value.\n",
        "print(d)"
      ],
      "execution_count": 0,
      "outputs": []
    },
    {
      "cell_type": "code",
      "metadata": {
        "ExecuteTime": {
          "end_time": "2018-10-09T00:12:59.006654Z",
          "start_time": "2018-10-09T00:12:59.002247Z"
        },
        "id": "wT_XQmqAWym9",
        "colab_type": "code",
        "colab": {}
      },
      "source": [
        "# Use for loop to add values\n",
        "for index in range(2, 10):\n",
        "    d[index] = \"%i value\"%index\n",
        "print(d)\n",
        "print(\"All the keys: \" + str(d.keys()))\n",
        "print(\"All the values: \" + str(d.values()))"
      ],
      "execution_count": 0,
      "outputs": []
    },
    {
      "cell_type": "code",
      "metadata": {
        "ExecuteTime": {
          "end_time": "2018-10-09T00:13:11.439289Z",
          "start_time": "2018-10-09T00:13:11.434000Z"
        },
        "id": "QLd6pTfqWym-",
        "colab_type": "code",
        "colab": {}
      },
      "source": [
        "for key in d:\n",
        "    print(\"Key is: %i, Value is : %s\"%(key, d[key]))"
      ],
      "execution_count": 0,
      "outputs": []
    },
    {
      "cell_type": "markdown",
      "metadata": {
        "id": "VCQT5ctVWym_",
        "colab_type": "text"
      },
      "source": [
        "---"
      ]
    },
    {
      "cell_type": "markdown",
      "metadata": {
        "id": "oUPe-OCBWynA",
        "colab_type": "text"
      },
      "source": [
        "### Control Logics\n",
        "\n",
        "In the following examples, we show examples of comparison, `if-else` loop, `for` loop, and `while` loop."
      ]
    },
    {
      "cell_type": "markdown",
      "metadata": {
        "id": "sq2UEVXOWynA",
        "colab_type": "text"
      },
      "source": [
        "#### Comparison"
      ]
    },
    {
      "cell_type": "markdown",
      "metadata": {
        "id": "ZYcbqNV4WynA",
        "colab_type": "text"
      },
      "source": [
        "Python syntax for comparison is the same as our hand-written convention: \n",
        "\n",
        "1. Larger (or equal): `>` (`>=`)\n",
        "2. Smaller (or equal): `<` (`<=`)\n",
        "3. Equal to: `==` (__Notie here that there are double equal signs__)\n",
        "4. Not equal to: `!=`"
      ]
    },
    {
      "cell_type": "code",
      "metadata": {
        "ExecuteTime": {
          "end_time": "2018-10-09T00:16:20.683160Z",
          "start_time": "2018-10-09T00:16:20.676171Z"
        },
        "id": "N-F_Ed09WynB",
        "colab_type": "code",
        "colab": {}
      },
      "source": [
        "3 == 5 "
      ],
      "execution_count": 0,
      "outputs": []
    },
    {
      "cell_type": "code",
      "metadata": {
        "ExecuteTime": {
          "end_time": "2018-10-09T00:16:21.107023Z",
          "start_time": "2018-10-09T00:16:21.102607Z"
        },
        "id": "p_eyKWKsWynC",
        "colab_type": "code",
        "colab": {}
      },
      "source": [
        "72 >= 2"
      ],
      "execution_count": 0,
      "outputs": []
    },
    {
      "cell_type": "code",
      "metadata": {
        "ExecuteTime": {
          "end_time": "2018-10-09T00:16:49.169393Z",
          "start_time": "2018-10-09T00:16:49.164386Z"
        },
        "id": "Fp_6684NWynD",
        "colab_type": "code",
        "colab": {}
      },
      "source": [
        "store_name"
      ],
      "execution_count": 0,
      "outputs": []
    },
    {
      "cell_type": "code",
      "metadata": {
        "ExecuteTime": {
          "end_time": "2018-10-09T00:16:49.460268Z",
          "start_time": "2018-10-09T00:16:49.453590Z"
        },
        "id": "0QmutIDaWynE",
        "colab_type": "code",
        "colab": {}
      },
      "source": [
        "store_name == \"HyVee\" # Will return a boolean value True or False"
      ],
      "execution_count": 0,
      "outputs": []
    },
    {
      "cell_type": "markdown",
      "metadata": {
        "id": "zQNaLoicWynH",
        "colab_type": "text"
      },
      "source": [
        "IMPORTANT: It is worth noting that comparisons between floating point numbers are tricky."
      ]
    },
    {
      "cell_type": "code",
      "metadata": {
        "ExecuteTime": {
          "end_time": "2018-10-09T00:17:16.577984Z",
          "start_time": "2018-10-09T00:17:16.571556Z"
        },
        "id": "CiWPOzg3WynH",
        "colab_type": "code",
        "colab": {}
      },
      "source": [
        "print(2.2 * 3.0)\n",
        "2.2 * 3.0 == 6.6"
      ],
      "execution_count": 0,
      "outputs": []
    },
    {
      "cell_type": "code",
      "metadata": {
        "ExecuteTime": {
          "end_time": "2018-10-09T00:17:16.777940Z",
          "start_time": "2018-10-09T00:17:16.771796Z"
        },
        "id": "PzxhnS0SWynI",
        "colab_type": "code",
        "colab": {}
      },
      "source": [
        "3.3 * 2.0 == 6.6"
      ],
      "execution_count": 0,
      "outputs": []
    },
    {
      "cell_type": "code",
      "metadata": {
        "id": "-5fB8SrfhQ81",
        "colab_type": "code",
        "colab": {}
      },
      "source": [
        "import math\n",
        "math.isclose(2.2*3.0,6.6,rel_tol=0.001)"
      ],
      "execution_count": 0,
      "outputs": []
    },
    {
      "cell_type": "markdown",
      "metadata": {
        "id": "SZ95Bc1-WynM",
        "colab_type": "text"
      },
      "source": [
        "Therefore, be really careful when you have to do such comparison"
      ]
    },
    {
      "cell_type": "markdown",
      "metadata": {
        "id": "bPBNm7IFWynM",
        "colab_type": "text"
      },
      "source": [
        "#### If-Else"
      ]
    },
    {
      "cell_type": "code",
      "metadata": {
        "ExecuteTime": {
          "end_time": "2018-10-09T01:38:46.027739Z",
          "start_time": "2018-10-09T01:38:46.023274Z"
        },
        "id": "7fkpjBSFWynN",
        "colab_type": "code",
        "colab": {}
      },
      "source": [
        "sum_ "
      ],
      "execution_count": 0,
      "outputs": []
    },
    {
      "cell_type": "code",
      "metadata": {
        "ExecuteTime": {
          "end_time": "2018-10-09T01:38:47.709640Z",
          "start_time": "2018-10-09T01:38:47.704307Z"
        },
        "id": "e3MBG5b9WynO",
        "colab_type": "code",
        "colab": {}
      },
      "source": [
        "if sum_ == 0:\n",
        "    print(\"sum_ is 0\")\n",
        "elif sum_ < 0:\n",
        "    print(\"sum_ is less than 0\")\n",
        "else:\n",
        "    print(\"sum_ is above 0 and its value is \" + str(sum_)) # Cast sum_ into string type."
      ],
      "execution_count": 0,
      "outputs": []
    },
    {
      "cell_type": "markdown",
      "metadata": {
        "id": "aEehKAVrWynP",
        "colab_type": "text"
      },
      "source": [
        "Note that you do not have to use `if-else` or `if-elif-...-else`. You can use `if` without other clauses following that."
      ]
    },
    {
      "cell_type": "code",
      "metadata": {
        "ExecuteTime": {
          "end_time": "2018-10-09T01:38:49.218876Z",
          "start_time": "2018-10-09T01:38:49.214871Z"
        },
        "id": "9LC1xO4iWynQ",
        "colab_type": "code",
        "colab": {}
      },
      "source": [
        "if sum_ > 5:\n",
        "    print('sum_ is above 5')"
      ],
      "execution_count": 0,
      "outputs": []
    },
    {
      "cell_type": "markdown",
      "metadata": {
        "id": "-5f5bKUtWynR",
        "colab_type": "text"
      },
      "source": [
        "Comparing strings are similar"
      ]
    },
    {
      "cell_type": "code",
      "metadata": {
        "ExecuteTime": {
          "end_time": "2018-10-09T01:38:50.755605Z",
          "start_time": "2018-10-09T01:38:50.751523Z"
        },
        "id": "tfMFsqt_WynS",
        "colab_type": "code",
        "colab": {}
      },
      "source": [
        "store_name = 'Walmart'\n",
        "#store_name = 'Hyvee'"
      ],
      "execution_count": 0,
      "outputs": []
    },
    {
      "cell_type": "code",
      "metadata": {
        "ExecuteTime": {
          "end_time": "2018-10-09T01:38:57.568568Z",
          "start_time": "2018-10-09T01:38:57.563726Z"
        },
        "id": "yDyhvrAnWynT",
        "colab_type": "code",
        "colab": {}
      },
      "source": [
        "if 'Wal' in store_name:\n",
        "    print(\"The store is not Walmart. It's \" + store_name + \".\")\n",
        "else:\n",
        "    print(\"The store is Walmart.\")"
      ],
      "execution_count": 0,
      "outputs": []
    },
    {
      "cell_type": "markdown",
      "metadata": {
        "id": "2nPD4jT-WynU",
        "colab_type": "text"
      },
      "source": [
        "#### For loop: Iterating thru a sequence"
      ]
    },
    {
      "cell_type": "code",
      "metadata": {
        "ExecuteTime": {
          "end_time": "2018-10-09T01:39:07.309307Z",
          "start_time": "2018-10-09T01:39:07.305696Z"
        },
        "id": "AHC41X-IWynU",
        "colab_type": "code",
        "colab": {}
      },
      "source": [
        "for letter in store_name:\n",
        "    print(letter)"
      ],
      "execution_count": 0,
      "outputs": []
    },
    {
      "cell_type": "markdown",
      "metadata": {
        "ExecuteTime": {
          "end_time": "2017-10-04T18:38:51.792543Z",
          "start_time": "2017-10-04T18:38:51.786228Z"
        },
        "id": "XQnl4zEwWynV",
        "colab_type": "text"
      },
      "source": [
        "`range()` is a function to create interger sequences:\n",
        "- Note that Python 3 now returns an `iterator` instead of actual `list` with `range` function\n",
        "- See [link](https://stackoverflow.com/questions/44571718/python-3-range-vs-python-2-range)"
      ]
    },
    {
      "cell_type": "code",
      "metadata": {
        "ExecuteTime": {
          "end_time": "2018-10-09T01:41:03.662280Z",
          "start_time": "2018-10-09T01:41:03.657790Z"
        },
        "id": "AkG-7yNXWynW",
        "colab_type": "code",
        "colab": {}
      },
      "source": [
        "print(\"range(5) gives\" + str(list(range(5)))) # By default starts from 0\n",
        "print(\"range(1,9) gives: \" + str(list(range(1, 9)))) # From 1 to 9-1 (Again the end index is exclusive.)"
      ],
      "execution_count": 0,
      "outputs": []
    },
    {
      "cell_type": "code",
      "metadata": {
        "ExecuteTime": {
          "end_time": "2018-10-09T01:41:05.935416Z",
          "start_time": "2018-10-09T01:41:05.930030Z"
        },
        "id": "SdgDEE2dWynX",
        "colab_type": "code",
        "colab": {}
      },
      "source": [
        "for index in range(len(store_name)): # length of a sequence\n",
        "    print(\"The %ith letter in store_name is: %s\"%(index, store_name[index]))"
      ],
      "execution_count": 0,
      "outputs": []
    },
    {
      "cell_type": "markdown",
      "metadata": {
        "id": "_4n3MIcGWynY",
        "colab_type": "text"
      },
      "source": [
        "#### While loop: Keep doing until condition no longer holds."
      ]
    },
    {
      "cell_type": "markdown",
      "metadata": {
        "id": "h15WCTPHWynY",
        "colab_type": "text"
      },
      "source": [
        "Use `for` when you know __the exact number of iterations__; use `while` when you __do not (e.g., checking convergence)__."
      ]
    },
    {
      "cell_type": "code",
      "metadata": {
        "ExecuteTime": {
          "end_time": "2018-10-09T01:41:12.053207Z",
          "start_time": "2018-10-09T01:41:12.049347Z"
        },
        "id": "OyyyPZb7WynZ",
        "colab_type": "code",
        "colab": {}
      },
      "source": [
        "x = 2"
      ],
      "execution_count": 0,
      "outputs": []
    },
    {
      "cell_type": "code",
      "metadata": {
        "ExecuteTime": {
          "end_time": "2018-10-09T01:41:12.294825Z",
          "start_time": "2018-10-09T01:41:12.290846Z"
        },
        "id": "ZRa3bKZXWynb",
        "colab_type": "code",
        "colab": {}
      },
      "source": [
        "while x < 10:\n",
        "    print(x)\n",
        "    x = x + (x-1)\n",
        "    #x += x-1"
      ],
      "execution_count": 0,
      "outputs": []
    },
    {
      "cell_type": "markdown",
      "metadata": {
        "id": "nbYOZD9aWynd",
        "colab_type": "text"
      },
      "source": [
        "#### Notes on `break` and `continue`"
      ]
    },
    {
      "cell_type": "markdown",
      "metadata": {
        "id": "WnzAIthkWynd",
        "colab_type": "text"
      },
      "source": [
        "`break` means get out of the loop immediately. Any code after the `break` will NOT be executed."
      ]
    },
    {
      "cell_type": "code",
      "metadata": {
        "ExecuteTime": {
          "end_time": "2018-10-09T01:41:21.493159Z",
          "start_time": "2018-10-09T01:41:21.489747Z"
        },
        "id": "o5Cqy_SLWyne",
        "colab_type": "code",
        "colab": {}
      },
      "source": [
        "store_name = 'Walmart'"
      ],
      "execution_count": 0,
      "outputs": []
    },
    {
      "cell_type": "code",
      "metadata": {
        "ExecuteTime": {
          "end_time": "2018-10-09T01:41:22.084338Z",
          "start_time": "2018-10-09T01:41:22.076857Z"
        },
        "id": "gKLs-x9kWyne",
        "colab_type": "code",
        "colab": {}
      },
      "source": [
        "index = 0\n",
        "while True:\n",
        "    print(store_name[index])\n",
        "    index += 1 # a += b means a = a + b\n",
        "    if store_name[index] == \"a\":\n",
        "        print(\"End at a\")\n",
        "        break # instead of setting flag to False, we can directly break out of the loop\n",
        "        print(\"Hello!\") # This will NOT be run"
      ],
      "execution_count": 0,
      "outputs": []
    },
    {
      "cell_type": "markdown",
      "metadata": {
        "id": "15iAF_wmWyng",
        "colab_type": "text"
      },
      "source": [
        "`continue` means get to the next iteration of loop. It will __break__ the current iteration and __continue__ to the next."
      ]
    },
    {
      "cell_type": "code",
      "metadata": {
        "ExecuteTime": {
          "end_time": "2018-10-09T01:41:23.822603Z",
          "start_time": "2018-10-09T01:41:23.818257Z"
        },
        "id": "U_2p66fdWyng",
        "colab_type": "code",
        "colab": {}
      },
      "source": [
        "for letter in store_name:\n",
        "    if letter == \"a\":\n",
        "        continue # Not printing V\n",
        "    else:\n",
        "        print(letter)"
      ],
      "execution_count": 0,
      "outputs": []
    },
    {
      "cell_type": "code",
      "metadata": {
        "ExecuteTime": {
          "end_time": "2018-10-09T01:41:24.791324Z",
          "start_time": "2018-10-09T01:41:24.780078Z"
        },
        "id": "ywKwk0IXWynh",
        "colab_type": "code",
        "colab": {}
      },
      "source": [
        "index = 0\n",
        "while index <= len(store_name)-1:\n",
        "    print(store_name[index])\n",
        "    if store_name[index] == \"a\":\n",
        "        print(\"This is an `a`\")\n",
        "        index += 1 # a += b means a = a + b\n",
        "        continue\n",
        "    print(\"Hello!\") # This will NOT be run\n",
        "    index += 1 # a += b means a = a + b"
      ],
      "execution_count": 0,
      "outputs": []
    },
    {
      "cell_type": "markdown",
      "metadata": {
        "id": "NIItvyWXU96f",
        "colab_type": "text"
      },
      "source": [
        "### Functions"
      ]
    },
    {
      "cell_type": "markdown",
      "metadata": {
        "id": "Os_1OEj2U96g",
        "colab_type": "text"
      },
      "source": [
        "#### Calling functions"
      ]
    },
    {
      "cell_type": "markdown",
      "metadata": {
        "id": "t1skzOvUU96h",
        "colab_type": "text"
      },
      "source": [
        "Previously, we have already made use of many built-in functions to facilitate programming. Function is a block of codes with input arguments (and, optionally, return values) for specific purposes. In Python ( and many other languages), a function call is as the following:\n",
        "\n",
        "```python\n",
        ">> output = function(input_argument)\n",
        "```"
      ]
    },
    {
      "cell_type": "markdown",
      "metadata": {
        "id": "o9wWnwMfU96h",
        "colab_type": "text"
      },
      "source": [
        "For example:"
      ]
    },
    {
      "cell_type": "code",
      "metadata": {
        "ExecuteTime": {
          "end_time": "2018-10-25T17:47:37.407545Z",
          "start_time": "2018-10-25T17:47:37.389644Z"
        },
        "id": "nG8UerffU96i",
        "colab_type": "code",
        "colab": {}
      },
      "source": [
        "range(5)"
      ],
      "execution_count": 0,
      "outputs": []
    },
    {
      "cell_type": "markdown",
      "metadata": {
        "id": "dzp8JYBxU96l",
        "colab_type": "text"
      },
      "source": [
        "Now that Python 3 use [`iterator`](https://stackoverflow.com/questions/25653996/what-is-the-difference-between-list-and-iterator-in-python) for 'range' function, we can manually convert the output into `list` so that we can see the output explicitly"
      ]
    },
    {
      "cell_type": "code",
      "metadata": {
        "ExecuteTime": {
          "end_time": "2018-10-25T17:48:25.160955Z",
          "start_time": "2018-10-25T17:48:25.155505Z"
        },
        "id": "pw1vpMAzU96m",
        "colab_type": "code",
        "colab": {}
      },
      "source": [
        "list(range(5))"
      ],
      "execution_count": 0,
      "outputs": []
    },
    {
      "cell_type": "markdown",
      "metadata": {
        "id": "JBhjZLV4U96o",
        "colab_type": "text"
      },
      "source": [
        "As another example:"
      ]
    },
    {
      "cell_type": "code",
      "metadata": {
        "ExecuteTime": {
          "end_time": "2018-10-25T17:48:45.482719Z",
          "start_time": "2018-10-25T17:48:45.476899Z"
        },
        "id": "03TaZSosU96p",
        "colab_type": "code",
        "colab": {}
      },
      "source": [
        "abs(-3.5)"
      ],
      "execution_count": 0,
      "outputs": []
    },
    {
      "cell_type": "markdown",
      "metadata": {
        "id": "0xOh8JVfU96s",
        "colab_type": "text"
      },
      "source": [
        "In many cases we need more sophisticated usage of functions, where we need to use more than one input arguments. For example:"
      ]
    },
    {
      "cell_type": "code",
      "metadata": {
        "ExecuteTime": {
          "end_time": "2018-10-25T17:20:29.734990Z",
          "start_time": "2018-10-25T17:20:29.729907Z"
        },
        "id": "Jb-jjgPEU96s",
        "colab_type": "code",
        "colab": {}
      },
      "source": [
        "list(range(5, 0, -1))"
      ],
      "execution_count": 0,
      "outputs": []
    },
    {
      "cell_type": "markdown",
      "metadata": {
        "id": "GiZWxRXtU96v",
        "colab_type": "text"
      },
      "source": [
        "A second example, sort a dictionary by values:"
      ]
    },
    {
      "cell_type": "code",
      "metadata": {
        "ExecuteTime": {
          "end_time": "2018-10-25T17:50:16.189583Z",
          "start_time": "2018-10-25T17:50:16.183753Z"
        },
        "id": "jWXDQjpHU96v",
        "colab_type": "code",
        "colab": {}
      },
      "source": [
        "d = {'a': 100, 'c': 50, 'b': 70}\n",
        "sorted(d)"
      ],
      "execution_count": 0,
      "outputs": []
    },
    {
      "cell_type": "code",
      "metadata": {
        "ExecuteTime": {
          "end_time": "2018-10-25T17:53:27.808548Z",
          "start_time": "2018-10-25T17:53:27.798150Z"
        },
        "id": "DEvjI2xIU96x",
        "colab_type": "code",
        "colab": {}
      },
      "source": [
        "d"
      ],
      "execution_count": 0,
      "outputs": []
    },
    {
      "cell_type": "code",
      "metadata": {
        "ExecuteTime": {
          "end_time": "2018-10-25T17:53:33.866813Z",
          "start_time": "2018-10-25T17:53:33.861638Z"
        },
        "id": "GXEiSArnU961",
        "colab_type": "code",
        "colab": {}
      },
      "source": [
        "d['a']"
      ],
      "execution_count": 0,
      "outputs": []
    },
    {
      "cell_type": "code",
      "metadata": {
        "ExecuteTime": {
          "end_time": "2018-10-25T17:51:39.294194Z",
          "start_time": "2018-10-25T17:51:39.286761Z"
        },
        "id": "dY25656oU963",
        "colab_type": "code",
        "colab": {}
      },
      "source": [
        "sorted(d, key=lambda k: d[k])"
      ],
      "execution_count": 0,
      "outputs": []
    },
    {
      "cell_type": "markdown",
      "metadata": {
        "id": "hoLFTI9QU965",
        "colab_type": "text"
      },
      "source": [
        "#### Lambda functions"
      ]
    },
    {
      "cell_type": "markdown",
      "metadata": {
        "id": "b-PAWMsGU965",
        "colab_type": "text"
      },
      "source": [
        "Aha, we just saw something different: `lambda`!"
      ]
    },
    {
      "cell_type": "markdown",
      "metadata": {
        "id": "CZEVXwnOU966",
        "colab_type": "text"
      },
      "source": [
        "Lambda functions are just functions, except that they are anonymous (literally). See [here](https://stackoverflow.com/questions/890128/why-are-python-lambdas-useful) for many good discussions. In short, you can use regular functions to achieve anything with `lambda`. Yet, it is handy because it is lightweight and anonymous."
      ]
    },
    {
      "cell_type": "markdown",
      "metadata": {
        "id": "z__EkZ8eU967",
        "colab_type": "text"
      },
      "source": [
        "The example above is actually a good example of when to use `lambda`:"
      ]
    },
    {
      "cell_type": "code",
      "metadata": {
        "ExecuteTime": {
          "end_time": "2018-10-25T17:20:29.761643Z",
          "start_time": "2018-10-25T17:20:29.757012Z"
        },
        "id": "36vNijwNU967",
        "colab_type": "code",
        "colab": {}
      },
      "source": [
        "sorted(d, key=lambda k: d[k])"
      ],
      "execution_count": 0,
      "outputs": []
    },
    {
      "cell_type": "markdown",
      "metadata": {
        "id": "dp988XoxU96-",
        "colab_type": "text"
      },
      "source": [
        "There is one and only one expression within the `lambda` function. In this case, the input is `k`, a key inside the dictionary `d` and the output is `d[k]`, the value in `d` w.r.t. the key `k`. Therefore we are sorting our dictionary keys by their values instead of the keys themselves."
      ]
    },
    {
      "cell_type": "markdown",
      "metadata": {
        "id": "oztz3WC5U96-",
        "colab_type": "text"
      },
      "source": [
        "#### Define our own functions"
      ]
    },
    {
      "cell_type": "markdown",
      "metadata": {
        "id": "LYAbn8KUU96_",
        "colab_type": "text"
      },
      "source": [
        "Note that we are not limited to built-in functions only. Let's now try make our own functions. Before that, we need to be clear on the structure of a function\n",
        "```python\n",
        "def func_name(arg1, arg2, arg3, ...):\n",
        "    #####################\n",
        "    # Do something here #\n",
        "    #####################\n",
        "    return output\n",
        "```\n",
        "\n",
        "\\* *`return output` is NOT required*"
      ]
    },
    {
      "cell_type": "markdown",
      "metadata": {
        "id": "4i2qdgyYU97A",
        "colab_type": "text"
      },
      "source": [
        "In the following example, we make use of `sum`, a built-in function to sum up numeric iterables."
      ]
    },
    {
      "cell_type": "code",
      "metadata": {
        "ExecuteTime": {
          "end_time": "2018-10-25T18:00:12.954116Z",
          "start_time": "2018-10-25T18:00:12.950910Z"
        },
        "id": "k5Z3j97SU97A",
        "colab_type": "code",
        "colab": {}
      },
      "source": [
        "def mySum(list_to_sum):\n",
        "    return sum(list_to_sum)"
      ],
      "execution_count": 0,
      "outputs": []
    },
    {
      "cell_type": "code",
      "metadata": {
        "ExecuteTime": {
          "end_time": "2018-10-25T18:00:13.219092Z",
          "start_time": "2018-10-25T18:00:13.214135Z"
        },
        "id": "QFHJ9dKCU97C",
        "colab_type": "code",
        "colab": {}
      },
      "source": [
        "mySum(range(5))"
      ],
      "execution_count": 0,
      "outputs": []
    },
    {
      "cell_type": "markdown",
      "metadata": {
        "id": "3IhZlyExU97E",
        "colab_type": "text"
      },
      "source": [
        "A more complicated one that does not use `sum` function.\n",
        "- Do not remember for loop? Check out [here](https://github.com/zhiyzuo/python-tutorial/blob/master/1-Variables-Data_Structures-Control_Logic.ipynb)"
      ]
    },
    {
      "cell_type": "code",
      "metadata": {
        "ExecuteTime": {
          "end_time": "2018-10-25T18:00:55.632800Z",
          "start_time": "2018-10-25T18:00:55.628985Z"
        },
        "id": "QyFh6EnIU97F",
        "colab_type": "code",
        "colab": {}
      },
      "source": [
        "def mySumUsingLoop(list_to_sum):\n",
        "    sum_ = list_to_sum[0]\n",
        "    for item in list_to_sum[1:]:\n",
        "        sum_ += item\n",
        "    return sum_"
      ],
      "execution_count": 0,
      "outputs": []
    },
    {
      "cell_type": "code",
      "metadata": {
        "ExecuteTime": {
          "end_time": "2018-10-25T18:00:55.894819Z",
          "start_time": "2018-10-25T18:00:55.887776Z"
        },
        "id": "HQcG7EA_U97H",
        "colab_type": "code",
        "colab": {}
      },
      "source": [
        "mySumUsingLoop(range(5))"
      ],
      "execution_count": 0,
      "outputs": []
    },
    {
      "cell_type": "markdown",
      "metadata": {
        "id": "EqH-jnf9U97I",
        "colab_type": "text"
      },
      "source": [
        "*The two example functions are not doing anything interesting but just served as illustrations to build customized functions.*"
      ]
    },
    {
      "cell_type": "markdown",
      "metadata": {
        "id": "A7y2RhdnU97J",
        "colab_type": "text"
      },
      "source": [
        "Finally, let's see how we can sort a dictionary by values using functions instead of `lambda`"
      ]
    },
    {
      "cell_type": "code",
      "metadata": {
        "ExecuteTime": {
          "end_time": "2018-10-25T18:01:10.928528Z",
          "start_time": "2018-10-25T18:01:10.923553Z"
        },
        "id": "v-UIwCCAU97K",
        "colab_type": "code",
        "colab": {}
      },
      "source": [
        "d"
      ],
      "execution_count": 0,
      "outputs": []
    },
    {
      "cell_type": "code",
      "metadata": {
        "ExecuteTime": {
          "end_time": "2018-10-25T18:01:11.516168Z",
          "start_time": "2018-10-25T18:01:11.512844Z"
        },
        "id": "nAGhb_7SU97M",
        "colab_type": "code",
        "colab": {}
      },
      "source": [
        "def my_key(key):\n",
        "    return d[key]"
      ],
      "execution_count": 0,
      "outputs": []
    },
    {
      "cell_type": "code",
      "metadata": {
        "ExecuteTime": {
          "end_time": "2018-10-25T18:01:30.640489Z",
          "start_time": "2018-10-25T18:01:30.634567Z"
        },
        "id": "Gl-2JWSvU97O",
        "colab_type": "code",
        "colab": {}
      },
      "source": [
        "sorted(d, key=my_key)"
      ],
      "execution_count": 0,
      "outputs": []
    },
    {
      "cell_type": "markdown",
      "metadata": {
        "id": "U8XLOPo6U97Q",
        "colab_type": "text"
      },
      "source": [
        "See, `lambda` is way simpler than defining a function explicitly"
      ]
    },
    {
      "cell_type": "markdown",
      "metadata": {
        "id": "FSWPnF-UU97Q",
        "colab_type": "text"
      },
      "source": [
        "---"
      ]
    },
    {
      "cell_type": "markdown",
      "metadata": {
        "id": "3oOqoXlrU97R",
        "colab_type": "text"
      },
      "source": [
        "### FIle I/O"
      ]
    },
    {
      "cell_type": "markdown",
      "metadata": {
        "id": "EeqNGXJOU97R",
        "colab_type": "text"
      },
      "source": [
        "This section is about some basics on reading and writing data, in Python native style"
      ]
    },
    {
      "cell_type": "markdown",
      "metadata": {
        "id": "Ygi4N7gVU97S",
        "colab_type": "text"
      },
      "source": [
        "#### Write data to a file"
      ]
    },
    {
      "cell_type": "code",
      "metadata": {
        "ExecuteTime": {
          "end_time": "2018-10-25T18:04:05.330388Z",
          "start_time": "2018-10-25T18:04:05.317270Z"
        },
        "id": "5iBBV0Q7U97S",
        "colab_type": "code",
        "colab": {}
      },
      "source": [
        "f = open(\"tmp1.csv\", \"w\") # f is a file handler, while \"w\" is the mode (w for write)\n",
        "for item in range(6):\n",
        "    f.write(str(item))\n",
        "    # add newline character \n",
        "    f.write(\"\\n\") \n",
        "    # alternatively, we can do:\n",
        "    # f.write(str(item)+\"\\n\") because we can concat two strings by using `+`\n",
        "f.close() # close the filer handler for security reasons."
      ],
      "execution_count": 0,
      "outputs": []
    },
    {
      "cell_type": "markdown",
      "metadata": {
        "id": "YrV623FvU97U",
        "colab_type": "text"
      },
      "source": [
        "check out the file we just created `tmp.csv`"
      ]
    },
    {
      "cell_type": "code",
      "metadata": {
        "ExecuteTime": {
          "end_time": "2018-10-25T18:04:14.746566Z",
          "start_time": "2018-10-25T18:04:14.613060Z"
        },
        "id": "DsWI79DeU97W",
        "colab_type": "code",
        "colab": {}
      },
      "source": [
        "cat tmp1.csv"
      ],
      "execution_count": 0,
      "outputs": []
    },
    {
      "cell_type": "markdown",
      "metadata": {
        "id": "ZWI3Wk8GU97Y",
        "colab_type": "text"
      },
      "source": [
        "Note that without the typecasting from `int` to `str`, an error will be raised."
      ]
    },
    {
      "cell_type": "markdown",
      "metadata": {
        "id": "efy3AjUKU97Y",
        "colab_type": "text"
      },
      "source": [
        "A more commonly used way:"
      ]
    },
    {
      "cell_type": "code",
      "metadata": {
        "ExecuteTime": {
          "end_time": "2018-10-25T18:05:39.217600Z",
          "start_time": "2018-10-25T18:05:39.211303Z"
        },
        "id": "hO8jRSVEU97Z",
        "colab_type": "code",
        "colab": {}
      },
      "source": [
        "with open(\"tmp2.csv\", \"w\") as f: # f is a file handler, while \"w\" is the mode (w for write)\n",
        "    for item in range(4):\n",
        "        f.write(str(item))\n",
        "        f.write(\"\\n\") # add newline character"
      ],
      "execution_count": 0,
      "outputs": []
    },
    {
      "cell_type": "code",
      "metadata": {
        "ExecuteTime": {
          "end_time": "2018-10-25T18:05:39.624751Z",
          "start_time": "2018-10-25T18:05:39.496854Z"
        },
        "id": "vPyvwyL3U97b",
        "colab_type": "code",
        "colab": {}
      },
      "source": [
        "cat tmp2.csv"
      ],
      "execution_count": 0,
      "outputs": []
    },
    {
      "cell_type": "markdown",
      "metadata": {
        "id": "p749b2iXU97d",
        "colab_type": "text"
      },
      "source": [
        "No need to close because of `with`.\n",
        "\n",
        "See more here:\n",
        "1. https://stackoverflow.com/questions/3012488/what-is-the-python-with-statement-designed-for\n",
        "2. https://docs.python.org/3/whatsnew/2.6.html#pep-343-the-with-statement"
      ]
    },
    {
      "cell_type": "markdown",
      "metadata": {
        "id": "H3X_CS-0U97e",
        "colab_type": "text"
      },
      "source": [
        "Occasionally, we need to _append new elements_ instead of _overwriting_ existing files. In this case, we should use `a` mode in our `open` function:"
      ]
    },
    {
      "cell_type": "code",
      "metadata": {
        "ExecuteTime": {
          "end_time": "2018-10-25T18:06:09.439732Z",
          "start_time": "2018-10-25T18:06:09.434341Z"
        },
        "id": "7VehGAn3U97e",
        "colab_type": "code",
        "colab": {}
      },
      "source": [
        "with open(\"tmp2.csv\", \"a\") as f:\n",
        "    for item in range(15, 19):\n",
        "        f.write(str(item)+\"\\n\")"
      ],
      "execution_count": 0,
      "outputs": []
    },
    {
      "cell_type": "code",
      "metadata": {
        "ExecuteTime": {
          "end_time": "2018-10-25T18:06:09.845265Z",
          "start_time": "2018-10-25T18:06:09.718758Z"
        },
        "id": "xgK3hDFRU97h",
        "colab_type": "code",
        "colab": {}
      },
      "source": [
        "cat tmp2.csv"
      ],
      "execution_count": 0,
      "outputs": []
    },
    {
      "cell_type": "markdown",
      "metadata": {
        "id": "iVNQY2lDU97i",
        "colab_type": "text"
      },
      "source": [
        "#### Read data to a file"
      ]
    },
    {
      "cell_type": "markdown",
      "metadata": {
        "id": "LyYxgB7GU97j",
        "colab_type": "text"
      },
      "source": [
        "To read a text file into Python, we use `r` mode (for _read_)"
      ]
    },
    {
      "cell_type": "code",
      "metadata": {
        "ExecuteTime": {
          "end_time": "2018-10-25T18:08:01.936428Z",
          "start_time": "2018-10-25T18:08:01.931565Z"
        },
        "id": "rWxfgqocU97j",
        "colab_type": "code",
        "colab": {}
      },
      "source": [
        "f = open(\"tmp1.csv\", \"r\") # this time, use read mode\n",
        "contents = [item for item in f] # list comprehension. This is the same as for-loop but more concise\n",
        "print(contents)"
      ],
      "execution_count": 0,
      "outputs": []
    },
    {
      "cell_type": "markdown",
      "metadata": {
        "id": "gtXJ09ogU97l",
        "colab_type": "text"
      },
      "source": [
        "Usually, we do not like trailing newlines. We can use `strip` to remove them."
      ]
    },
    {
      "cell_type": "code",
      "metadata": {
        "ExecuteTime": {
          "end_time": "2018-10-25T18:08:02.351111Z",
          "start_time": "2018-10-25T18:08:02.341732Z"
        },
        "id": "A92r3P8wU97l",
        "colab_type": "code",
        "colab": {}
      },
      "source": [
        "contents = [item.strip(\"\\n\") for item in contents] # strip the newline\n",
        "print(contents)"
      ],
      "execution_count": 0,
      "outputs": []
    },
    {
      "cell_type": "markdown",
      "metadata": {
        "id": "zvq-eLqzU97n",
        "colab_type": "text"
      },
      "source": [
        "`map` is a function to do similar things like _list comprehension_. See [here](https://stackoverflow.com/questions/10973766/understanding-the-map-function) for more discussions."
      ]
    },
    {
      "cell_type": "code",
      "metadata": {
        "ExecuteTime": {
          "end_time": "2018-10-25T18:08:45.960510Z",
          "start_time": "2018-10-25T18:08:45.956406Z"
        },
        "id": "G6RbdQaqU97n",
        "colab_type": "code",
        "colab": {}
      },
      "source": [
        "int_values = list(map(int, contents)) # map the values into integer type\n",
        "print(int_values)\n",
        "f.close() # always remember to close the file handler"
      ],
      "execution_count": 0,
      "outputs": []
    },
    {
      "cell_type": "markdown",
      "metadata": {
        "id": "VKAszOClU97p",
        "colab_type": "text"
      },
      "source": [
        "Also using with:"
      ]
    },
    {
      "cell_type": "code",
      "metadata": {
        "ExecuteTime": {
          "end_time": "2018-10-25T18:09:06.950061Z",
          "start_time": "2018-10-25T18:09:06.943884Z"
        },
        "id": "y6v7Qiy0U97p",
        "colab_type": "code",
        "colab": {}
      },
      "source": [
        "with open(\"tmp1.csv\", \"r\") as f:\n",
        "    contents = [item for item in f] # list comprehension. This is the same as for-loop but more concise\n",
        "    contents = [item.strip(\"\\n\") for item in contents] # strip the newline\n",
        "    print('Before converting to `int`')\n",
        "    print(contents)\n",
        "    int_values = list(map(int, contents)) # map the values into integer type\n",
        "    print('After...')\n",
        "    print(int_values)"
      ],
      "execution_count": 0,
      "outputs": []
    },
    {
      "cell_type": "markdown",
      "metadata": {
        "id": "D_rJVNzyU97r",
        "colab_type": "text"
      },
      "source": [
        "---"
      ]
    },
    {
      "cell_type": "markdown",
      "metadata": {
        "id": "9JaW4SvWU97s",
        "colab_type": "text"
      },
      "source": [
        "### Libraries"
      ]
    },
    {
      "cell_type": "markdown",
      "metadata": {
        "id": "mgYlR05CU97s",
        "colab_type": "text"
      },
      "source": [
        "Often times, we need either internal or external help for complicated computation tasks. In these occasions, we need to _import libraries_. "
      ]
    },
    {
      "cell_type": "markdown",
      "metadata": {
        "id": "e0ySGPo6U97t",
        "colab_type": "text"
      },
      "source": [
        "#### Built-in libraries"
      ]
    },
    {
      "cell_type": "markdown",
      "metadata": {
        "id": "2A4tlQRZU97u",
        "colab_type": "text"
      },
      "source": [
        "Python provides many built-in packages to prevent extra work on some common and useful functions\n",
        "\n",
        "We will use __math__ as an example."
      ]
    },
    {
      "cell_type": "code",
      "metadata": {
        "ExecuteTime": {
          "end_time": "2018-10-25T18:11:30.413987Z",
          "start_time": "2018-10-25T18:11:30.411351Z"
        },
        "id": "0NFc-scVU97v",
        "colab_type": "code",
        "colab": {}
      },
      "source": [
        "import math # use import to load a library"
      ],
      "execution_count": 0,
      "outputs": []
    },
    {
      "cell_type": "markdown",
      "metadata": {
        "id": "5vH0gMmZU97w",
        "colab_type": "text"
      },
      "source": [
        "To use functions from the library, do: `library_name.function_name`. For example, when we want to calculate the logarithm using a function from `math` library, we can do `math.log`"
      ]
    },
    {
      "cell_type": "code",
      "metadata": {
        "ExecuteTime": {
          "end_time": "2018-10-25T18:12:36.793378Z",
          "start_time": "2018-10-25T18:12:36.788201Z"
        },
        "id": "lnwhL39NU97x",
        "colab_type": "code",
        "colab": {}
      },
      "source": [
        "x = 3\n",
        "print(\"e^x = e^3 = %f\"%math.exp(x))\n",
        "print(\"log(x) = log(3) = %f\"%math.log(x))"
      ],
      "execution_count": 0,
      "outputs": []
    },
    {
      "cell_type": "markdown",
      "metadata": {
        "id": "qpZX6QQiU97z",
        "colab_type": "text"
      },
      "source": [
        "You can also import one specific function:"
      ]
    },
    {
      "cell_type": "code",
      "metadata": {
        "ExecuteTime": {
          "end_time": "2018-10-25T18:12:37.162731Z",
          "start_time": "2018-10-25T18:12:37.157103Z"
        },
        "id": "DGLhZmngU970",
        "colab_type": "code",
        "colab": {}
      },
      "source": [
        "from math import exp # You can import a specific function\n",
        "print(exp(x)) # This way, you don't need to use math.exp but just exp"
      ],
      "execution_count": 0,
      "outputs": []
    },
    {
      "cell_type": "markdown",
      "metadata": {
        "id": "bXueeqsMU972",
        "colab_type": "text"
      },
      "source": [
        "Or all:"
      ]
    },
    {
      "cell_type": "code",
      "metadata": {
        "ExecuteTime": {
          "end_time": "2018-10-25T17:20:30.324507Z",
          "start_time": "2018-10-25T17:20:30.320936Z"
        },
        "id": "pM9_N1rvU973",
        "colab_type": "code",
        "colab": {}
      },
      "source": [
        "from math import * # Import all functions"
      ],
      "execution_count": 0,
      "outputs": []
    },
    {
      "cell_type": "code",
      "metadata": {
        "ExecuteTime": {
          "end_time": "2018-10-25T17:20:30.331795Z",
          "start_time": "2018-10-25T17:20:30.327483Z"
        },
        "id": "gWIIwklNU974",
        "colab_type": "code",
        "colab": {}
      },
      "source": [
        "print(exp(x))\n",
        "print(log(x)) # Before importing math, calling `exp` or `log` will raise errors"
      ],
      "execution_count": 0,
      "outputs": []
    },
    {
      "cell_type": "markdown",
      "metadata": {
        "id": "osmE31EIU976",
        "colab_type": "text"
      },
      "source": [
        "Depending on what you want to achieve, you may want to choose between importing a few or all (by `*`) functions within a package."
      ]
    },
    {
      "cell_type": "markdown",
      "metadata": {
        "id": "-GEbf1zQU977",
        "colab_type": "text"
      },
      "source": [
        "#### External libraries"
      ]
    },
    {
      "cell_type": "markdown",
      "metadata": {
        "ExecuteTime": {
          "end_time": "2017-10-21T16:45:05.266743Z",
          "start_time": "2017-10-21T16:45:05.260803Z"
        },
        "id": "D8VpeZUPU977",
        "colab_type": "text"
      },
      "source": [
        "There are times you'll want some advanced utility functions not provided by Python. There are many useful packages by developers.\n",
        "\n",
        "We'll use __numpy__ as an example. (__numpy__, __scipy__, __matplotlib__,and probably __pandas__ will be of the most importance to you for data analyses.\n",
        "\n",
        "Installation of packages for Python is the easiest using <a href=\"https://packaging.python.org/installing/\" target=\"_blank\">pip</a>:"
      ]
    },
    {
      "cell_type": "markdown",
      "metadata": {
        "id": "tc5udWLCU978",
        "colab_type": "text"
      },
      "source": [
        "```bash\n",
        "~$ pip install numpy scipy pandas\n",
        "```"
      ]
    },
    {
      "cell_type": "markdown",
      "metadata": {
        "id": "Bfagk9MOU978",
        "colab_type": "text"
      },
      "source": [
        "If you use Anaconda, I beleive all these are ready for your use."
      ]
    },
    {
      "cell_type": "markdown",
      "metadata": {
        "id": "kZ8V15-GU978",
        "colab_type": "text"
      },
      "source": [
        "Loading external libraries is just the same as built-in ones. To use _alias_ for easier access to the libraries, we can import a library by: `import library_long_name as short_name`. For example:"
      ]
    },
    {
      "cell_type": "code",
      "metadata": {
        "ExecuteTime": {
          "end_time": "2018-10-25T18:13:42.776598Z",
          "start_time": "2018-10-25T18:13:42.770831Z"
        },
        "id": "ZSK5S5lwU979",
        "colab_type": "code",
        "colab": {}
      },
      "source": [
        "# After you install numpy, load it\n",
        "import numpy as np # you can use np instead of numpy to call the functions in numpy package"
      ],
      "execution_count": 0,
      "outputs": []
    },
    {
      "cell_type": "code",
      "metadata": {
        "ExecuteTime": {
          "end_time": "2018-10-25T18:15:33.255909Z",
          "start_time": "2018-10-25T18:15:33.250898Z"
        },
        "id": "74dETRdxU97-",
        "colab_type": "code",
        "colab": {}
      },
      "source": [
        "x = np.array([[1,2,3], [4,5,7]], dtype=np.float) # create a numpy array object, specify the data type as float\n",
        "print(x)\n",
        "print(type(x))"
      ],
      "execution_count": 0,
      "outputs": []
    },
    {
      "cell_type": "markdown",
      "metadata": {
        "id": "k1DXomgUU98B",
        "colab_type": "text"
      },
      "source": [
        "We can call `shape` function designed for `numpy.ndarray` class to check the dimension"
      ]
    },
    {
      "cell_type": "code",
      "metadata": {
        "ExecuteTime": {
          "end_time": "2018-10-25T18:15:44.041903Z",
          "start_time": "2018-10-25T18:15:44.036465Z"
        },
        "id": "X1Mc2MpPU98C",
        "colab_type": "code",
        "colab": {}
      },
      "source": [
        "x.shape"
      ],
      "execution_count": 0,
      "outputs": []
    },
    {
      "cell_type": "markdown",
      "metadata": {
        "id": "dbe271j_U98D",
        "colab_type": "text"
      },
      "source": [
        "Unlike `list`, we have to use one single data type for all elements in an array"
      ]
    },
    {
      "cell_type": "code",
      "metadata": {
        "ExecuteTime": {
          "end_time": "2018-10-25T18:16:19.660627Z",
          "start_time": "2018-10-25T18:16:19.655016Z"
        },
        "id": "rp7yATFpU98E",
        "colab_type": "code",
        "colab": {}
      },
      "source": [
        "y = np.array([1, 'yes'])\n",
        "y"
      ],
      "execution_count": 0,
      "outputs": []
    },
    {
      "cell_type": "code",
      "metadata": {
        "ExecuteTime": {
          "end_time": "2018-10-25T18:16:34.203322Z",
          "start_time": "2018-10-25T18:16:34.195223Z"
        },
        "id": "UAim_mvMU98F",
        "colab_type": "code",
        "colab": {}
      },
      "source": [
        "y[0], type(y[0])"
      ],
      "execution_count": 0,
      "outputs": []
    },
    {
      "cell_type": "code",
      "metadata": {
        "ExecuteTime": {
          "end_time": "2018-10-25T18:16:49.525338Z",
          "start_time": "2018-10-25T18:16:49.519782Z"
        },
        "id": "pZd8uwqjU98H",
        "colab_type": "code",
        "colab": {}
      },
      "source": [
        "y_list = [1, 'yes']\n",
        "y_list[0], type(y_list[0])"
      ],
      "execution_count": 0,
      "outputs": []
    },
    {
      "cell_type": "markdown",
      "metadata": {
        "id": "KkjHm5b9U98I",
        "colab_type": "text"
      },
      "source": [
        "__Scipy/Numpy__ provides extensive utilities to manipulate data and simple analysis"
      ]
    },
    {
      "cell_type": "code",
      "metadata": {
        "ExecuteTime": {
          "end_time": "2018-10-25T18:17:50.704195Z",
          "start_time": "2018-10-25T18:17:50.701194Z"
        },
        "id": "kjGBMGHlU98J",
        "colab_type": "code",
        "colab": {}
      },
      "source": [
        "from scipy.stats import pearsonr, spearmanr # correlation functions"
      ],
      "execution_count": 0,
      "outputs": []
    },
    {
      "cell_type": "code",
      "metadata": {
        "ExecuteTime": {
          "end_time": "2018-10-25T18:17:50.766246Z",
          "start_time": "2018-10-25T18:17:50.743057Z"
        },
        "id": "_v3aeM8TU98K",
        "colab_type": "code",
        "colab": {}
      },
      "source": [
        "print(pearsonr(x[1, :], x[0, :]))\n",
        "print(spearmanr(x[1, :], x[0, :]))"
      ],
      "execution_count": 0,
      "outputs": []
    },
    {
      "cell_type": "markdown",
      "metadata": {
        "id": "wRKWrj5FU98L",
        "colab_type": "text"
      },
      "source": [
        "__Pandas__ (Python Data Analysis Library) is a great package for data structures: `DataFrame`"
      ]
    },
    {
      "cell_type": "markdown",
      "metadata": {
        "id": "EDjPdlW-U98L",
        "colab_type": "text"
      },
      "source": [
        "If you're familar with `R`, then you must love `pandas.DataFrame` data structure."
      ]
    },
    {
      "cell_type": "code",
      "metadata": {
        "ExecuteTime": {
          "end_time": "2018-10-25T18:18:13.027876Z",
          "start_time": "2018-10-25T18:18:13.025121Z"
        },
        "id": "KNo-mi4HU98L",
        "colab_type": "code",
        "colab": {}
      },
      "source": [
        "import pandas as pd"
      ],
      "execution_count": 0,
      "outputs": []
    },
    {
      "cell_type": "code",
      "metadata": {
        "ExecuteTime": {
          "end_time": "2018-10-25T18:18:55.978258Z",
          "start_time": "2018-10-25T18:18:55.969575Z"
        },
        "id": "unlCWk5LU98N",
        "colab_type": "code",
        "colab": {}
      },
      "source": [
        "x"
      ],
      "execution_count": 0,
      "outputs": []
    },
    {
      "cell_type": "code",
      "metadata": {
        "ExecuteTime": {
          "end_time": "2018-10-25T18:19:06.351817Z",
          "start_time": "2018-10-25T18:19:06.337655Z"
        },
        "id": "iA-FsXYtU98O",
        "colab_type": "code",
        "colab": {}
      },
      "source": [
        "x_df = pd.DataFrame(x)\n",
        "x_df"
      ],
      "execution_count": 0,
      "outputs": []
    },
    {
      "cell_type": "markdown",
      "metadata": {
        "id": "cyz-nzY6U98P",
        "colab_type": "text"
      },
      "source": [
        "Easy import/export"
      ]
    },
    {
      "cell_type": "code",
      "metadata": {
        "ExecuteTime": {
          "end_time": "2018-10-25T17:20:32.720410Z",
          "start_time": "2018-10-25T17:20:32.701648Z"
        },
        "id": "oqoYrVOyU98Q",
        "colab_type": "code",
        "colab": {}
      },
      "source": [
        "x_df.to_csv('tmp_pd.csv', index=False) # `index=False`: do not write row indices to file"
      ],
      "execution_count": 0,
      "outputs": []
    },
    {
      "cell_type": "code",
      "metadata": {
        "ExecuteTime": {
          "end_time": "2018-10-25T17:20:32.774467Z",
          "start_time": "2018-10-25T17:20:32.755799Z"
        },
        "id": "zIt3ubedU98S",
        "colab_type": "code",
        "colab": {}
      },
      "source": [
        "df = pd.read_csv('tmp_pd.csv')"
      ],
      "execution_count": 0,
      "outputs": []
    },
    {
      "cell_type": "code",
      "metadata": {
        "ExecuteTime": {
          "end_time": "2018-10-25T17:20:32.816525Z",
          "start_time": "2018-10-25T17:20:32.781308Z"
        },
        "id": "X18fOznIU98T",
        "colab_type": "code",
        "colab": {}
      },
      "source": [
        "df"
      ],
      "execution_count": 0,
      "outputs": []
    },
    {
      "cell_type": "markdown",
      "metadata": {
        "id": "TPEx1bfEU98U",
        "colab_type": "text"
      },
      "source": [
        "---"
      ]
    },
    {
      "cell_type": "markdown",
      "metadata": {
        "id": "fDH1nCzaU98V",
        "colab_type": "text"
      },
      "source": [
        "### Quick Intro to Numpy"
      ]
    },
    {
      "cell_type": "markdown",
      "metadata": {
        "id": "RHQbMi7FU98V",
        "colab_type": "text"
      },
      "source": [
        "Instead of using the native data structures, we use `numpy.ndarray` for data analytics most of the time. While they are not as \"flexible\" as lists, they are easy to use and have better performance. As Numpy's official documentation states:\n",
        "> NumPy’s main object is the homogeneous multidimensional array. It is a table of elements (usually numbers), all of the same type, indexed by a tuple of positive integers."
      ]
    },
    {
      "cell_type": "markdown",
      "metadata": {
        "id": "sYw0liSNU98V",
        "colab_type": "text"
      },
      "source": [
        "As we were using it just now, the most common alias for `numpy` is `np`:"
      ]
    },
    {
      "cell_type": "code",
      "metadata": {
        "ExecuteTime": {
          "end_time": "2018-10-25T18:20:55.886804Z",
          "start_time": "2018-10-25T18:20:55.883788Z"
        },
        "id": "qr4KepkaU98W",
        "colab_type": "code",
        "colab": {}
      },
      "source": [
        "import numpy as np"
      ],
      "execution_count": 0,
      "outputs": []
    },
    {
      "cell_type": "markdown",
      "metadata": {
        "id": "JKtnms1KU98X",
        "colab_type": "text"
      },
      "source": [
        "#### Create arrays"
      ]
    },
    {
      "cell_type": "markdown",
      "metadata": {
        "id": "eCKajUD3U98Y",
        "colab_type": "text"
      },
      "source": [
        "Depending on what types of analyses we are going to work on later, the most appropriate array initialization methods can be choosed."
      ]
    },
    {
      "cell_type": "markdown",
      "metadata": {
        "id": "T9lbx7jOU98Y",
        "colab_type": "text"
      },
      "source": [
        "##### By hand"
      ]
    },
    {
      "cell_type": "markdown",
      "metadata": {
        "id": "jjTCa7GeU98Z",
        "colab_type": "text"
      },
      "source": [
        "This is very similar to creating a list of elements manually, except that we wrap the list around by `np.array()`."
      ]
    },
    {
      "cell_type": "code",
      "metadata": {
        "ExecuteTime": {
          "end_time": "2018-10-25T18:21:09.714465Z",
          "start_time": "2018-10-25T18:21:09.708143Z"
        },
        "id": "BjZPrGZ3U98Z",
        "colab_type": "code",
        "colab": {}
      },
      "source": [
        "arr = np.array([1,2,3,8])\n",
        "arr"
      ],
      "execution_count": 0,
      "outputs": []
    },
    {
      "cell_type": "code",
      "metadata": {
        "ExecuteTime": {
          "end_time": "2018-10-25T18:21:10.376843Z",
          "start_time": "2018-10-25T18:21:10.372139Z"
        },
        "id": "Y0ya_pAkU98b",
        "colab_type": "code",
        "colab": {}
      },
      "source": [
        "arr.shape"
      ],
      "execution_count": 0,
      "outputs": []
    },
    {
      "cell_type": "markdown",
      "metadata": {
        "id": "lNMQDwDYU98c",
        "colab_type": "text"
      },
      "source": [
        "Multidimensional arrays: seperated by comma"
      ]
    },
    {
      "cell_type": "markdown",
      "metadata": {
        "id": "9ouDokCjU98c",
        "colab_type": "text"
      },
      "source": [
        "1 by 4: 1 row and 4 columns"
      ]
    },
    {
      "cell_type": "code",
      "metadata": {
        "ExecuteTime": {
          "end_time": "2018-10-25T18:22:13.908319Z",
          "start_time": "2018-10-25T18:22:13.903647Z"
        },
        "id": "26CPro9zU98d",
        "colab_type": "code",
        "colab": {}
      },
      "source": [
        "arr = np.array([[1,2,3,8]])\n",
        "arr.shape"
      ],
      "execution_count": 0,
      "outputs": []
    },
    {
      "cell_type": "code",
      "metadata": {
        "ExecuteTime": {
          "end_time": "2018-10-25T18:22:30.154253Z",
          "start_time": "2018-10-25T18:22:30.148702Z"
        },
        "id": "35R-ft3tU98e",
        "colab_type": "code",
        "colab": {}
      },
      "source": [
        "arr"
      ],
      "execution_count": 0,
      "outputs": []
    },
    {
      "cell_type": "markdown",
      "metadata": {
        "id": "kJQt_uzoU98f",
        "colab_type": "text"
      },
      "source": [
        "3 by 4: 3 row and 4 columns"
      ]
    },
    {
      "cell_type": "code",
      "metadata": {
        "ExecuteTime": {
          "end_time": "2018-10-25T18:22:47.168037Z",
          "start_time": "2018-10-25T18:22:47.162787Z"
        },
        "id": "IhTEvD0hU98f",
        "colab_type": "code",
        "colab": {}
      },
      "source": [
        "arr = np.array([[1,2,3,8], [3,2,3,2], [4,5,0,8]])\n",
        "arr.shape"
      ],
      "execution_count": 0,
      "outputs": []
    },
    {
      "cell_type": "code",
      "metadata": {
        "ExecuteTime": {
          "end_time": "2018-10-25T18:22:47.618800Z",
          "start_time": "2018-10-25T18:22:47.613359Z"
        },
        "id": "v3qHnaiAU98h",
        "colab_type": "code",
        "colab": {}
      },
      "source": [
        "arr"
      ],
      "execution_count": 0,
      "outputs": []
    },
    {
      "cell_type": "markdown",
      "metadata": {
        "id": "hlhpXhvLU98l",
        "colab_type": "text"
      },
      "source": [
        "##### By functions"
      ]
    },
    {
      "cell_type": "markdown",
      "metadata": {
        "id": "LaPK6El7U98l",
        "colab_type": "text"
      },
      "source": [
        "There are many special array initialization methods to call:"
      ]
    },
    {
      "cell_type": "code",
      "metadata": {
        "ExecuteTime": {
          "end_time": "2018-10-25T18:23:26.355528Z",
          "start_time": "2018-10-25T18:23:26.350971Z"
        },
        "id": "e_TUZC5CU98l",
        "colab_type": "code",
        "colab": {}
      },
      "source": [
        "np.zeros([3,5], dtype=int)"
      ],
      "execution_count": 0,
      "outputs": []
    },
    {
      "cell_type": "code",
      "metadata": {
        "ExecuteTime": {
          "end_time": "2018-10-25T17:20:32.915771Z",
          "start_time": "2018-10-25T17:20:32.908663Z"
        },
        "id": "FUTUoKuYU98m",
        "colab_type": "code",
        "colab": {}
      },
      "source": [
        "np.ones([3,5])"
      ],
      "execution_count": 0,
      "outputs": []
    },
    {
      "cell_type": "code",
      "metadata": {
        "ExecuteTime": {
          "end_time": "2018-10-25T17:20:32.928709Z",
          "start_time": "2018-10-25T17:20:32.919025Z"
        },
        "id": "qB1Gbn2vU98n",
        "colab_type": "code",
        "colab": {}
      },
      "source": [
        "np.eye(3)"
      ],
      "execution_count": 0,
      "outputs": []
    },
    {
      "cell_type": "markdown",
      "metadata": {
        "id": "Nhxvh1nnU98p",
        "colab_type": "text"
      },
      "source": [
        "#### Arithmatic operations"
      ]
    },
    {
      "cell_type": "markdown",
      "metadata": {
        "id": "b93ZlI5IU98q",
        "colab_type": "text"
      },
      "source": [
        "The rules are very similar to R: they are generally element wise"
      ]
    },
    {
      "cell_type": "code",
      "metadata": {
        "ExecuteTime": {
          "end_time": "2018-10-25T18:24:37.986303Z",
          "start_time": "2018-10-25T18:24:37.981265Z"
        },
        "id": "WJP4Qcw1U98q",
        "colab_type": "code",
        "colab": {}
      },
      "source": [
        "arr"
      ],
      "execution_count": 0,
      "outputs": []
    },
    {
      "cell_type": "code",
      "metadata": {
        "ExecuteTime": {
          "end_time": "2018-10-25T18:24:38.430440Z",
          "start_time": "2018-10-25T18:24:38.411917Z"
        },
        "id": "VMFvPtIPU98s",
        "colab_type": "code",
        "colab": {}
      },
      "source": [
        "arr * 6"
      ],
      "execution_count": 0,
      "outputs": []
    },
    {
      "cell_type": "code",
      "metadata": {
        "ExecuteTime": {
          "end_time": "2018-10-25T17:20:32.958899Z",
          "start_time": "2018-10-25T17:20:32.951229Z"
        },
        "id": "ZX4ugTb5U98t",
        "colab_type": "code",
        "colab": {}
      },
      "source": [
        "arr - 5"
      ],
      "execution_count": 0,
      "outputs": []
    },
    {
      "cell_type": "code",
      "metadata": {
        "ExecuteTime": {
          "end_time": "2018-10-25T17:20:32.970030Z",
          "start_time": "2018-10-25T17:20:32.963074Z"
        },
        "id": "Gq2FPr9AU98u",
        "colab_type": "code",
        "colab": {}
      },
      "source": [
        "np.exp(arr)"
      ],
      "execution_count": 0,
      "outputs": []
    },
    {
      "cell_type": "markdown",
      "metadata": {
        "id": "8QACikvTU98v",
        "colab_type": "text"
      },
      "source": [
        "Note that if we want conduct matrix multiplication, we need to use `@` or `.dot` function, since `*` still means element wise computation"
      ]
    },
    {
      "cell_type": "code",
      "metadata": {
        "ExecuteTime": {
          "end_time": "2018-10-25T17:20:32.981988Z",
          "start_time": "2018-10-25T17:20:32.973813Z"
        },
        "id": "mmtzDrsUU98v",
        "colab_type": "code",
        "colab": {}
      },
      "source": [
        "arr_2 = np.array([[1], [3], [2], [0]])\n",
        "arr_2"
      ],
      "execution_count": 0,
      "outputs": []
    },
    {
      "cell_type": "code",
      "metadata": {
        "ExecuteTime": {
          "end_time": "2018-10-25T17:20:33.001842Z",
          "start_time": "2018-10-25T17:20:32.985348Z"
        },
        "id": "22JV9gLiU98w",
        "colab_type": "code",
        "colab": {}
      },
      "source": [
        "arr @ arr_2"
      ],
      "execution_count": 0,
      "outputs": []
    },
    {
      "cell_type": "code",
      "metadata": {
        "ExecuteTime": {
          "end_time": "2018-10-25T17:20:33.017275Z",
          "start_time": "2018-10-25T17:20:33.008780Z"
        },
        "id": "QeNk8csLU98x",
        "colab_type": "code",
        "colab": {}
      },
      "source": [
        "arr.dot(arr_2)"
      ],
      "execution_count": 0,
      "outputs": []
    },
    {
      "cell_type": "markdown",
      "metadata": {
        "id": "eqTehW1sU98y",
        "colab_type": "text"
      },
      "source": [
        "##### Operation based on itself"
      ]
    },
    {
      "cell_type": "markdown",
      "metadata": {
        "id": "hAxdPKqGU98y",
        "colab_type": "text"
      },
      "source": [
        "There are many class methods to calculate some statistics of the array itself along some axis:\n",
        "- `axis=1` means row-wise\n",
        "- `axis=0` means column-wise"
      ]
    },
    {
      "cell_type": "code",
      "metadata": {
        "ExecuteTime": {
          "end_time": "2018-10-25T17:20:33.031146Z",
          "start_time": "2018-10-25T17:20:33.020661Z"
        },
        "id": "QcGRqRSxU98z",
        "colab_type": "code",
        "colab": {}
      },
      "source": [
        "arr"
      ],
      "execution_count": 0,
      "outputs": []
    },
    {
      "cell_type": "code",
      "metadata": {
        "ExecuteTime": {
          "end_time": "2018-10-25T17:20:33.048518Z",
          "start_time": "2018-10-25T17:20:33.033767Z"
        },
        "id": "9r0EnHYIU980",
        "colab_type": "code",
        "colab": {}
      },
      "source": [
        "arr.max()"
      ],
      "execution_count": 0,
      "outputs": []
    },
    {
      "cell_type": "code",
      "metadata": {
        "ExecuteTime": {
          "end_time": "2018-10-25T17:20:33.060765Z",
          "start_time": "2018-10-25T17:20:33.051750Z"
        },
        "id": "mduVnfTCU981",
        "colab_type": "code",
        "colab": {}
      },
      "source": [
        "arr.max(axis=1)"
      ],
      "execution_count": 0,
      "outputs": []
    },
    {
      "cell_type": "code",
      "metadata": {
        "ExecuteTime": {
          "end_time": "2018-10-25T17:20:33.072580Z",
          "start_time": "2018-10-25T17:20:33.064562Z"
        },
        "id": "BihAIx9nU982",
        "colab_type": "code",
        "colab": {}
      },
      "source": [
        "arr.max(axis=0)"
      ],
      "execution_count": 0,
      "outputs": []
    },
    {
      "cell_type": "code",
      "metadata": {
        "ExecuteTime": {
          "end_time": "2018-10-25T18:28:06.467191Z",
          "start_time": "2018-10-25T18:28:06.458802Z"
        },
        "id": "QWsZf-pTU983",
        "colab_type": "code",
        "colab": {}
      },
      "source": [
        "arr.cumsum()"
      ],
      "execution_count": 0,
      "outputs": []
    },
    {
      "cell_type": "code",
      "metadata": {
        "ExecuteTime": {
          "end_time": "2018-10-25T18:28:09.052626Z",
          "start_time": "2018-10-25T18:28:09.047583Z"
        },
        "id": "K8q_Af0XU985",
        "colab_type": "code",
        "colab": {}
      },
      "source": [
        "arr.cumsum(axis=1)"
      ],
      "execution_count": 0,
      "outputs": []
    },
    {
      "cell_type": "markdown",
      "metadata": {
        "id": "Ni4p-VwzU986",
        "colab_type": "text"
      },
      "source": [
        "#### Indexing and slicing"
      ]
    },
    {
      "cell_type": "markdown",
      "metadata": {
        "id": "fUQqTipwU986",
        "colab_type": "text"
      },
      "source": [
        "The most important part is how to index and slice a `np.array`. It is actually very similar to `list`, except that we now may have more index elements because there are more than one dimension for most of the datasets in real life"
      ]
    },
    {
      "cell_type": "markdown",
      "metadata": {
        "id": "KQjymoRIU986",
        "colab_type": "text"
      },
      "source": [
        "##### 1 dimensional case"
      ]
    },
    {
      "cell_type": "code",
      "metadata": {
        "ExecuteTime": {
          "end_time": "2018-10-25T18:28:39.875850Z",
          "start_time": "2018-10-25T18:28:39.862936Z"
        },
        "id": "5QPfSBiAU986",
        "colab_type": "code",
        "colab": {}
      },
      "source": [
        "a1 = np.array([1,2,8,100])\n",
        "a1"
      ],
      "execution_count": 0,
      "outputs": []
    },
    {
      "cell_type": "code",
      "metadata": {
        "ExecuteTime": {
          "end_time": "2018-10-25T18:28:40.194494Z",
          "start_time": "2018-10-25T18:28:40.187561Z"
        },
        "id": "gbv9JKbBU988",
        "colab_type": "code",
        "colab": {}
      },
      "source": [
        "a1[0]"
      ],
      "execution_count": 0,
      "outputs": []
    },
    {
      "cell_type": "code",
      "metadata": {
        "ExecuteTime": {
          "end_time": "2018-10-25T18:28:54.262749Z",
          "start_time": "2018-10-25T18:28:54.255392Z"
        },
        "id": "QztDUfDTU98-",
        "colab_type": "code",
        "colab": {}
      },
      "source": [
        "a1[-2]"
      ],
      "execution_count": 0,
      "outputs": []
    },
    {
      "cell_type": "code",
      "metadata": {
        "ExecuteTime": {
          "end_time": "2018-10-25T18:29:03.024941Z",
          "start_time": "2018-10-25T18:29:03.019955Z"
        },
        "id": "g1Nl1wuHU98_",
        "colab_type": "code",
        "colab": {}
      },
      "source": [
        "a1[[0,1,3]]"
      ],
      "execution_count": 0,
      "outputs": []
    },
    {
      "cell_type": "markdown",
      "metadata": {
        "id": "EpDVw0phU99A",
        "colab_type": "text"
      },
      "source": [
        "We can also use boolean values to index\n",
        "- `True` means we want this element"
      ]
    },
    {
      "cell_type": "code",
      "metadata": {
        "ExecuteTime": {
          "end_time": "2018-10-25T18:29:28.874057Z",
          "start_time": "2018-10-25T18:29:28.869300Z"
        },
        "id": "ixbZK8NAU99A",
        "colab_type": "code",
        "colab": {}
      },
      "source": [
        "a1 > 3"
      ],
      "execution_count": 0,
      "outputs": []
    },
    {
      "cell_type": "code",
      "metadata": {
        "ExecuteTime": {
          "end_time": "2018-10-25T18:30:00.091948Z",
          "start_time": "2018-10-25T18:30:00.086799Z"
        },
        "id": "l_Bbeeq8U99B",
        "colab_type": "code",
        "colab": {}
      },
      "source": [
        "a1[a1 > 3]"
      ],
      "execution_count": 0,
      "outputs": []
    },
    {
      "cell_type": "markdown",
      "metadata": {
        "id": "JKi71lM4U99C",
        "colab_type": "text"
      },
      "source": [
        "##### 2 dimensional case"
      ]
    },
    {
      "cell_type": "code",
      "metadata": {
        "ExecuteTime": {
          "end_time": "2018-10-25T18:30:01.277543Z",
          "start_time": "2018-10-25T18:30:01.270262Z"
        },
        "id": "4KcnVtZwU99C",
        "colab_type": "code",
        "colab": {}
      },
      "source": [
        "arr"
      ],
      "execution_count": 0,
      "outputs": []
    },
    {
      "cell_type": "markdown",
      "metadata": {
        "id": "SOBB4WlJU99E",
        "colab_type": "text"
      },
      "source": [
        "Using only one number to index will lead to a subset of the original multidimenional array: also an array"
      ]
    },
    {
      "cell_type": "code",
      "metadata": {
        "ExecuteTime": {
          "end_time": "2018-10-25T18:30:15.881928Z",
          "start_time": "2018-10-25T18:30:15.877093Z"
        },
        "id": "FsN_Oh8PU99E",
        "colab_type": "code",
        "colab": {}
      },
      "source": [
        "arr[0]"
      ],
      "execution_count": 0,
      "outputs": []
    },
    {
      "cell_type": "code",
      "metadata": {
        "ExecuteTime": {
          "end_time": "2018-10-25T18:30:21.305735Z",
          "start_time": "2018-10-25T18:30:21.299368Z"
        },
        "id": "S23CChjUU99F",
        "colab_type": "code",
        "colab": {}
      },
      "source": [
        "type(arr[0])"
      ],
      "execution_count": 0,
      "outputs": []
    },
    {
      "cell_type": "markdown",
      "metadata": {
        "id": "XR5iCQ6dU99G",
        "colab_type": "text"
      },
      "source": [
        "Since we have 2 dimensions now, there are 2 indices we can use for indexing the 2 dimensions respectively"
      ]
    },
    {
      "cell_type": "code",
      "metadata": {
        "ExecuteTime": {
          "end_time": "2018-10-25T18:35:00.665066Z",
          "start_time": "2018-10-25T18:35:00.661163Z"
        },
        "id": "0A8SLCmVU99G",
        "colab_type": "code",
        "colab": {}
      },
      "source": [
        "arr[0,0]"
      ],
      "execution_count": 0,
      "outputs": []
    },
    {
      "cell_type": "markdown",
      "metadata": {
        "id": "wnD2PaxGU99H",
        "colab_type": "text"
      },
      "source": [
        "We can use `:` to indicate everything along that axis"
      ]
    },
    {
      "cell_type": "code",
      "metadata": {
        "ExecuteTime": {
          "end_time": "2018-10-25T18:35:01.023310Z",
          "start_time": "2018-10-25T18:35:01.012994Z"
        },
        "id": "TKHACuFwU99I",
        "colab_type": "code",
        "colab": {}
      },
      "source": [
        "arr[1]"
      ],
      "execution_count": 0,
      "outputs": []
    },
    {
      "cell_type": "code",
      "metadata": {
        "ExecuteTime": {
          "end_time": "2018-10-25T18:35:01.286832Z",
          "start_time": "2018-10-25T18:35:01.277934Z"
        },
        "id": "BwZgOjQPU99J",
        "colab_type": "code",
        "colab": {}
      },
      "source": [
        "arr[1, :]"
      ],
      "execution_count": 0,
      "outputs": []
    },
    {
      "cell_type": "code",
      "metadata": {
        "ExecuteTime": {
          "end_time": "2018-10-25T18:35:01.415490Z",
          "start_time": "2018-10-25T18:35:01.405283Z"
        },
        "id": "UwtnfOq3U99K",
        "colab_type": "code",
        "colab": {}
      },
      "source": [
        "arr[1,:] == arr[1]"
      ],
      "execution_count": 0,
      "outputs": []
    },
    {
      "cell_type": "code",
      "metadata": {
        "ExecuteTime": {
          "end_time": "2018-10-25T18:35:01.582330Z",
          "start_time": "2018-10-25T18:35:01.573495Z"
        },
        "id": "BiKso1SSU99L",
        "colab_type": "code",
        "colab": {}
      },
      "source": [
        "arr[:, 1]"
      ],
      "execution_count": 0,
      "outputs": []
    },
    {
      "cell_type": "markdown",
      "metadata": {
        "id": "aOc_w8-2U99M",
        "colab_type": "text"
      },
      "source": [
        "##### 3 dimensional case"
      ]
    },
    {
      "cell_type": "markdown",
      "metadata": {
        "id": "ajTNhm8rU99M",
        "colab_type": "text"
      },
      "source": [
        "As a final example, we look at a 3d array:"
      ]
    },
    {
      "cell_type": "code",
      "metadata": {
        "ExecuteTime": {
          "end_time": "2018-10-25T18:35:02.101149Z",
          "start_time": "2018-10-25T18:35:02.092391Z"
        },
        "id": "vTAvoDCDU99N",
        "colab_type": "code",
        "colab": {}
      },
      "source": [
        "arr_3 = np.random.randint(low=0, high=100, size=24)\n",
        "arr_3"
      ],
      "execution_count": 0,
      "outputs": []
    },
    {
      "cell_type": "markdown",
      "metadata": {
        "id": "DFyQPnymU99O",
        "colab_type": "text"
      },
      "source": [
        "We can use [`reshape`](https://docs.scipy.org/doc/numpy-1.15.1/reference/generated/numpy.reshape.html) to manipulate the shape of an array"
      ]
    },
    {
      "cell_type": "code",
      "metadata": {
        "ExecuteTime": {
          "end_time": "2018-10-25T18:35:02.489922Z",
          "start_time": "2018-10-25T18:35:02.478082Z"
        },
        "id": "EG9W55RsU99O",
        "colab_type": "code",
        "colab": {}
      },
      "source": [
        "arr_3 = arr_3.reshape(3,4,2)\n",
        "arr_3"
      ],
      "execution_count": 0,
      "outputs": []
    },
    {
      "cell_type": "code",
      "metadata": {
        "ExecuteTime": {
          "end_time": "2018-10-25T18:35:02.729883Z",
          "start_time": "2018-10-25T18:35:02.725296Z"
        },
        "id": "labOuobGU99P",
        "colab_type": "code",
        "colab": {}
      },
      "source": [
        "arr_3[0]"
      ],
      "execution_count": 0,
      "outputs": []
    },
    {
      "cell_type": "code",
      "metadata": {
        "ExecuteTime": {
          "end_time": "2018-10-25T18:35:02.850093Z",
          "start_time": "2018-10-25T18:35:02.843697Z"
        },
        "id": "NPJLLotlU99Q",
        "colab_type": "code",
        "colab": {}
      },
      "source": [
        "arr_3[:, 3, 1]"
      ],
      "execution_count": 0,
      "outputs": []
    },
    {
      "cell_type": "code",
      "metadata": {
        "ExecuteTime": {
          "end_time": "2018-10-25T18:35:03.048599Z",
          "start_time": "2018-10-25T18:35:03.040467Z"
        },
        "id": "DhfSdBHjU99R",
        "colab_type": "code",
        "colab": {}
      },
      "source": [
        "arr_3[2, 3, 1]"
      ],
      "execution_count": 0,
      "outputs": []
    }
  ]
}